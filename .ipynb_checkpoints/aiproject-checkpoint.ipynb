{
 "cells": [
  {
   "cell_type": "markdown",
   "id": "f7e8b7cf",
   "metadata": {},
   "source": [
    "## Install Packages"
   ]
  },
  {
   "cell_type": "code",
   "execution_count": 327,
   "id": "af1ae6f5",
   "metadata": {},
   "outputs": [
    {
     "name": "stdout",
     "output_type": "stream",
     "text": [
      "Requirement already satisfied: seaborn in /opt/anaconda3/lib/python3.9/site-packages (0.11.2)\n",
      "Requirement already satisfied: scipy>=1.0 in /opt/anaconda3/lib/python3.9/site-packages (from seaborn) (1.7.1)\n",
      "Requirement already satisfied: matplotlib>=2.2 in /opt/anaconda3/lib/python3.9/site-packages (from seaborn) (3.4.3)\n",
      "Requirement already satisfied: pandas>=0.23 in /opt/anaconda3/lib/python3.9/site-packages (from seaborn) (1.3.4)\n",
      "Requirement already satisfied: numpy>=1.15 in /opt/anaconda3/lib/python3.9/site-packages (from seaborn) (1.20.3)\n",
      "Requirement already satisfied: pyparsing>=2.2.1 in /opt/anaconda3/lib/python3.9/site-packages (from matplotlib>=2.2->seaborn) (3.0.4)\n",
      "Requirement already satisfied: python-dateutil>=2.7 in /opt/anaconda3/lib/python3.9/site-packages (from matplotlib>=2.2->seaborn) (2.8.2)\n",
      "Requirement already satisfied: pillow>=6.2.0 in /opt/anaconda3/lib/python3.9/site-packages (from matplotlib>=2.2->seaborn) (8.4.0)\n",
      "Requirement already satisfied: cycler>=0.10 in /opt/anaconda3/lib/python3.9/site-packages (from matplotlib>=2.2->seaborn) (0.10.0)\n",
      "Requirement already satisfied: kiwisolver>=1.0.1 in /opt/anaconda3/lib/python3.9/site-packages (from matplotlib>=2.2->seaborn) (1.3.1)\n",
      "Requirement already satisfied: six in /opt/anaconda3/lib/python3.9/site-packages (from cycler>=0.10->matplotlib>=2.2->seaborn) (1.16.0)\n",
      "Requirement already satisfied: pytz>=2017.3 in /opt/anaconda3/lib/python3.9/site-packages (from pandas>=0.23->seaborn) (2021.3)\n",
      "Note: you may need to restart the kernel to use updated packages.\n"
     ]
    }
   ],
   "source": [
    "%pip install seaborn\n",
    "%matplotlib inline"
   ]
  },
  {
   "cell_type": "code",
   "execution_count": 328,
   "id": "09b1ccb7",
   "metadata": {},
   "outputs": [],
   "source": [
    "import numpy as np\n",
    "from sklearn.metrics import accuracy_score, confusion_matrix, classification_report\n",
    "from sklearn.model_selection import train_test_split\n",
    "from sklearn.neighbors import KNeighborsClassifier\n",
    "from sklearn.tree import DecisionTreeClassifier\n",
    "from sklearn.ensemble import RandomForestClassifier\n",
    "from sklearn.linear_model import LogisticRegression\n",
    "from sklearn.naive_bayes import GaussianNB\n",
    "\n",
    "import seaborn as sns\n",
    "\n",
    "sns.set_style(\"whitegrid\")\n",
    "import pandas as pd\n",
    "import matplotlib.pyplot as plt"
   ]
  },
  {
   "cell_type": "markdown",
   "id": "a2cb010d",
   "metadata": {},
   "source": [
    "## Import CSV Files"
   ]
  },
  {
   "cell_type": "code",
   "execution_count": 329,
   "id": "af45a27a",
   "metadata": {},
   "outputs": [],
   "source": [
    "df = pd.read_csv(\"/Users/isa/Desktop/healthcare/aiproject/train_data.csv\")\n",
    "df_test = pd.read_csv(\"/Users/isa/Desktop/healthcare/aiproject/test_data.csv\")"
   ]
  },
  {
   "cell_type": "code",
   "execution_count": 330,
   "id": "331ddad6",
   "metadata": {},
   "outputs": [
    {
     "data": {
      "text/html": [
       "<div>\n",
       "<style scoped>\n",
       "    .dataframe tbody tr th:only-of-type {\n",
       "        vertical-align: middle;\n",
       "    }\n",
       "\n",
       "    .dataframe tbody tr th {\n",
       "        vertical-align: top;\n",
       "    }\n",
       "\n",
       "    .dataframe thead th {\n",
       "        text-align: right;\n",
       "    }\n",
       "</style>\n",
       "<table border=\"1\" class=\"dataframe\">\n",
       "  <thead>\n",
       "    <tr style=\"text-align: right;\">\n",
       "      <th></th>\n",
       "      <th>case_id</th>\n",
       "      <th>Hospital_code</th>\n",
       "      <th>Hospital_type_code</th>\n",
       "      <th>City_Code_Hospital</th>\n",
       "      <th>Hospital_region_code</th>\n",
       "      <th>Available Extra Rooms in Hospital</th>\n",
       "      <th>Department</th>\n",
       "      <th>Ward_Type</th>\n",
       "      <th>Ward_Facility_Code</th>\n",
       "      <th>Bed Grade</th>\n",
       "      <th>patientid</th>\n",
       "      <th>City_Code_Patient</th>\n",
       "      <th>Type of Admission</th>\n",
       "      <th>Severity of Illness</th>\n",
       "      <th>Visitors with Patient</th>\n",
       "      <th>Age</th>\n",
       "      <th>Admission_Deposit</th>\n",
       "      <th>Stay</th>\n",
       "    </tr>\n",
       "  </thead>\n",
       "  <tbody>\n",
       "    <tr>\n",
       "      <th>0</th>\n",
       "      <td>1</td>\n",
       "      <td>8</td>\n",
       "      <td>c</td>\n",
       "      <td>3</td>\n",
       "      <td>Z</td>\n",
       "      <td>3</td>\n",
       "      <td>radiotherapy</td>\n",
       "      <td>R</td>\n",
       "      <td>F</td>\n",
       "      <td>2.0</td>\n",
       "      <td>31397</td>\n",
       "      <td>7.0</td>\n",
       "      <td>Emergency</td>\n",
       "      <td>Extreme</td>\n",
       "      <td>2</td>\n",
       "      <td>51-60</td>\n",
       "      <td>4911.0</td>\n",
       "      <td>0-10</td>\n",
       "    </tr>\n",
       "    <tr>\n",
       "      <th>1</th>\n",
       "      <td>2</td>\n",
       "      <td>2</td>\n",
       "      <td>c</td>\n",
       "      <td>5</td>\n",
       "      <td>Z</td>\n",
       "      <td>2</td>\n",
       "      <td>radiotherapy</td>\n",
       "      <td>S</td>\n",
       "      <td>F</td>\n",
       "      <td>2.0</td>\n",
       "      <td>31397</td>\n",
       "      <td>7.0</td>\n",
       "      <td>Trauma</td>\n",
       "      <td>Extreme</td>\n",
       "      <td>2</td>\n",
       "      <td>51-60</td>\n",
       "      <td>5954.0</td>\n",
       "      <td>41-50</td>\n",
       "    </tr>\n",
       "    <tr>\n",
       "      <th>2</th>\n",
       "      <td>3</td>\n",
       "      <td>10</td>\n",
       "      <td>e</td>\n",
       "      <td>1</td>\n",
       "      <td>X</td>\n",
       "      <td>2</td>\n",
       "      <td>anesthesia</td>\n",
       "      <td>S</td>\n",
       "      <td>E</td>\n",
       "      <td>2.0</td>\n",
       "      <td>31397</td>\n",
       "      <td>7.0</td>\n",
       "      <td>Trauma</td>\n",
       "      <td>Extreme</td>\n",
       "      <td>2</td>\n",
       "      <td>51-60</td>\n",
       "      <td>4745.0</td>\n",
       "      <td>31-40</td>\n",
       "    </tr>\n",
       "    <tr>\n",
       "      <th>3</th>\n",
       "      <td>4</td>\n",
       "      <td>26</td>\n",
       "      <td>b</td>\n",
       "      <td>2</td>\n",
       "      <td>Y</td>\n",
       "      <td>2</td>\n",
       "      <td>radiotherapy</td>\n",
       "      <td>R</td>\n",
       "      <td>D</td>\n",
       "      <td>2.0</td>\n",
       "      <td>31397</td>\n",
       "      <td>7.0</td>\n",
       "      <td>Trauma</td>\n",
       "      <td>Extreme</td>\n",
       "      <td>2</td>\n",
       "      <td>51-60</td>\n",
       "      <td>7272.0</td>\n",
       "      <td>41-50</td>\n",
       "    </tr>\n",
       "    <tr>\n",
       "      <th>4</th>\n",
       "      <td>5</td>\n",
       "      <td>26</td>\n",
       "      <td>b</td>\n",
       "      <td>2</td>\n",
       "      <td>Y</td>\n",
       "      <td>2</td>\n",
       "      <td>radiotherapy</td>\n",
       "      <td>S</td>\n",
       "      <td>D</td>\n",
       "      <td>2.0</td>\n",
       "      <td>31397</td>\n",
       "      <td>7.0</td>\n",
       "      <td>Trauma</td>\n",
       "      <td>Extreme</td>\n",
       "      <td>2</td>\n",
       "      <td>51-60</td>\n",
       "      <td>5558.0</td>\n",
       "      <td>41-50</td>\n",
       "    </tr>\n",
       "  </tbody>\n",
       "</table>\n",
       "</div>"
      ],
      "text/plain": [
       "   case_id  Hospital_code Hospital_type_code  City_Code_Hospital  \\\n",
       "0        1              8                  c                   3   \n",
       "1        2              2                  c                   5   \n",
       "2        3             10                  e                   1   \n",
       "3        4             26                  b                   2   \n",
       "4        5             26                  b                   2   \n",
       "\n",
       "  Hospital_region_code  Available Extra Rooms in Hospital    Department  \\\n",
       "0                    Z                                  3  radiotherapy   \n",
       "1                    Z                                  2  radiotherapy   \n",
       "2                    X                                  2    anesthesia   \n",
       "3                    Y                                  2  radiotherapy   \n",
       "4                    Y                                  2  radiotherapy   \n",
       "\n",
       "  Ward_Type Ward_Facility_Code  Bed Grade  patientid  City_Code_Patient  \\\n",
       "0         R                  F        2.0      31397                7.0   \n",
       "1         S                  F        2.0      31397                7.0   \n",
       "2         S                  E        2.0      31397                7.0   \n",
       "3         R                  D        2.0      31397                7.0   \n",
       "4         S                  D        2.0      31397                7.0   \n",
       "\n",
       "  Type of Admission Severity of Illness  Visitors with Patient    Age  \\\n",
       "0         Emergency             Extreme                      2  51-60   \n",
       "1            Trauma             Extreme                      2  51-60   \n",
       "2            Trauma             Extreme                      2  51-60   \n",
       "3            Trauma             Extreme                      2  51-60   \n",
       "4            Trauma             Extreme                      2  51-60   \n",
       "\n",
       "   Admission_Deposit   Stay  \n",
       "0             4911.0   0-10  \n",
       "1             5954.0  41-50  \n",
       "2             4745.0  31-40  \n",
       "3             7272.0  41-50  \n",
       "4             5558.0  41-50  "
      ]
     },
     "execution_count": 330,
     "metadata": {},
     "output_type": "execute_result"
    }
   ],
   "source": [
    "df.head()"
   ]
  },
  {
   "cell_type": "code",
   "execution_count": 331,
   "id": "11848c24",
   "metadata": {},
   "outputs": [
    {
     "data": {
      "text/html": [
       "<div>\n",
       "<style scoped>\n",
       "    .dataframe tbody tr th:only-of-type {\n",
       "        vertical-align: middle;\n",
       "    }\n",
       "\n",
       "    .dataframe tbody tr th {\n",
       "        vertical-align: top;\n",
       "    }\n",
       "\n",
       "    .dataframe thead th {\n",
       "        text-align: right;\n",
       "    }\n",
       "</style>\n",
       "<table border=\"1\" class=\"dataframe\">\n",
       "  <thead>\n",
       "    <tr style=\"text-align: right;\">\n",
       "      <th></th>\n",
       "      <th>case_id</th>\n",
       "      <th>Hospital_code</th>\n",
       "      <th>Hospital_type_code</th>\n",
       "      <th>City_Code_Hospital</th>\n",
       "      <th>Hospital_region_code</th>\n",
       "      <th>Available Extra Rooms in Hospital</th>\n",
       "      <th>Department</th>\n",
       "      <th>Ward_Type</th>\n",
       "      <th>Ward_Facility_Code</th>\n",
       "      <th>Bed Grade</th>\n",
       "      <th>patientid</th>\n",
       "      <th>City_Code_Patient</th>\n",
       "      <th>Type of Admission</th>\n",
       "      <th>Severity of Illness</th>\n",
       "      <th>Visitors with Patient</th>\n",
       "      <th>Age</th>\n",
       "      <th>Admission_Deposit</th>\n",
       "    </tr>\n",
       "  </thead>\n",
       "  <tbody>\n",
       "    <tr>\n",
       "      <th>0</th>\n",
       "      <td>318439</td>\n",
       "      <td>21</td>\n",
       "      <td>c</td>\n",
       "      <td>3</td>\n",
       "      <td>Z</td>\n",
       "      <td>3</td>\n",
       "      <td>gynecology</td>\n",
       "      <td>S</td>\n",
       "      <td>A</td>\n",
       "      <td>2.0</td>\n",
       "      <td>17006</td>\n",
       "      <td>2.0</td>\n",
       "      <td>Emergency</td>\n",
       "      <td>Moderate</td>\n",
       "      <td>2</td>\n",
       "      <td>71-80</td>\n",
       "      <td>3095.0</td>\n",
       "    </tr>\n",
       "    <tr>\n",
       "      <th>1</th>\n",
       "      <td>318440</td>\n",
       "      <td>29</td>\n",
       "      <td>a</td>\n",
       "      <td>4</td>\n",
       "      <td>X</td>\n",
       "      <td>2</td>\n",
       "      <td>gynecology</td>\n",
       "      <td>S</td>\n",
       "      <td>F</td>\n",
       "      <td>2.0</td>\n",
       "      <td>17006</td>\n",
       "      <td>2.0</td>\n",
       "      <td>Trauma</td>\n",
       "      <td>Moderate</td>\n",
       "      <td>4</td>\n",
       "      <td>71-80</td>\n",
       "      <td>4018.0</td>\n",
       "    </tr>\n",
       "    <tr>\n",
       "      <th>2</th>\n",
       "      <td>318441</td>\n",
       "      <td>26</td>\n",
       "      <td>b</td>\n",
       "      <td>2</td>\n",
       "      <td>Y</td>\n",
       "      <td>3</td>\n",
       "      <td>gynecology</td>\n",
       "      <td>Q</td>\n",
       "      <td>D</td>\n",
       "      <td>4.0</td>\n",
       "      <td>17006</td>\n",
       "      <td>2.0</td>\n",
       "      <td>Emergency</td>\n",
       "      <td>Moderate</td>\n",
       "      <td>3</td>\n",
       "      <td>71-80</td>\n",
       "      <td>4492.0</td>\n",
       "    </tr>\n",
       "    <tr>\n",
       "      <th>3</th>\n",
       "      <td>318442</td>\n",
       "      <td>6</td>\n",
       "      <td>a</td>\n",
       "      <td>6</td>\n",
       "      <td>X</td>\n",
       "      <td>3</td>\n",
       "      <td>gynecology</td>\n",
       "      <td>Q</td>\n",
       "      <td>F</td>\n",
       "      <td>2.0</td>\n",
       "      <td>17006</td>\n",
       "      <td>2.0</td>\n",
       "      <td>Trauma</td>\n",
       "      <td>Moderate</td>\n",
       "      <td>3</td>\n",
       "      <td>71-80</td>\n",
       "      <td>4173.0</td>\n",
       "    </tr>\n",
       "    <tr>\n",
       "      <th>4</th>\n",
       "      <td>318443</td>\n",
       "      <td>28</td>\n",
       "      <td>b</td>\n",
       "      <td>11</td>\n",
       "      <td>X</td>\n",
       "      <td>2</td>\n",
       "      <td>gynecology</td>\n",
       "      <td>R</td>\n",
       "      <td>F</td>\n",
       "      <td>2.0</td>\n",
       "      <td>17006</td>\n",
       "      <td>2.0</td>\n",
       "      <td>Trauma</td>\n",
       "      <td>Moderate</td>\n",
       "      <td>4</td>\n",
       "      <td>71-80</td>\n",
       "      <td>4161.0</td>\n",
       "    </tr>\n",
       "  </tbody>\n",
       "</table>\n",
       "</div>"
      ],
      "text/plain": [
       "   case_id  Hospital_code Hospital_type_code  City_Code_Hospital  \\\n",
       "0   318439             21                  c                   3   \n",
       "1   318440             29                  a                   4   \n",
       "2   318441             26                  b                   2   \n",
       "3   318442              6                  a                   6   \n",
       "4   318443             28                  b                  11   \n",
       "\n",
       "  Hospital_region_code  Available Extra Rooms in Hospital  Department  \\\n",
       "0                    Z                                  3  gynecology   \n",
       "1                    X                                  2  gynecology   \n",
       "2                    Y                                  3  gynecology   \n",
       "3                    X                                  3  gynecology   \n",
       "4                    X                                  2  gynecology   \n",
       "\n",
       "  Ward_Type Ward_Facility_Code  Bed Grade  patientid  City_Code_Patient  \\\n",
       "0         S                  A        2.0      17006                2.0   \n",
       "1         S                  F        2.0      17006                2.0   \n",
       "2         Q                  D        4.0      17006                2.0   \n",
       "3         Q                  F        2.0      17006                2.0   \n",
       "4         R                  F        2.0      17006                2.0   \n",
       "\n",
       "  Type of Admission Severity of Illness  Visitors with Patient    Age  \\\n",
       "0         Emergency            Moderate                      2  71-80   \n",
       "1            Trauma            Moderate                      4  71-80   \n",
       "2         Emergency            Moderate                      3  71-80   \n",
       "3            Trauma            Moderate                      3  71-80   \n",
       "4            Trauma            Moderate                      4  71-80   \n",
       "\n",
       "   Admission_Deposit  \n",
       "0             3095.0  \n",
       "1             4018.0  \n",
       "2             4492.0  \n",
       "3             4173.0  \n",
       "4             4161.0  "
      ]
     },
     "execution_count": 331,
     "metadata": {},
     "output_type": "execute_result"
    }
   ],
   "source": [
    "df_test.head()"
   ]
  },
  {
   "cell_type": "markdown",
   "id": "92a6d2d9",
   "metadata": {},
   "source": [
    "## FEATURE SELECTION"
   ]
  },
  {
   "cell_type": "code",
   "execution_count": 332,
   "id": "2650ffd8",
   "metadata": {},
   "outputs": [],
   "source": [
    "# TRAIN dataset converted to digitized\n",
    "## alternatively labelEncoder() can be used"
   ]
  },
  {
   "cell_type": "code",
   "execution_count": 333,
   "id": "e5170e58",
   "metadata": {},
   "outputs": [],
   "source": [
    "    df_train = df[\n",
    "        [\"Hospital_code\", \"patientid\", \"Department\", \"Age\", \"Severity of Illness\", \"Type of Admission\", \"Stay\"]].copy()\n",
    "    # print(\"TRAIN DATA\")\n",
    "    # 0 ->  gynecology / 1 -> anesthesia / 2-> radiotherapy / 3 -> TB & Chest disease / 4 -> surgery\n",
    "    # print(df[\"Department\"].value_counts())\n",
    "    df_train = df_train.replace(['gynecology'], '0')\n",
    "    df_train = df_train.replace(['anesthesia'], '1')\n",
    "    df_train = df_train.replace(['radiotherapy'], '2')\n",
    "    df_train = df_train.replace(['TB & Chest disease'], '3')\n",
    "    df_train = df_train.replace(['surgery'], '4')\n",
    "    # print(df_train[\"Department\"].value_counts())\n",
    "\n",
    "    # 0 -> Moderate / 1 -> Minor / 2 -> Extreme / 3 -> Severity of Illness\n",
    "    # print(df[\"Severity of Illness\"].value_counts())\n",
    "    df_train = df_train.replace(['Moderate'], '0')\n",
    "    df_train = df_train.replace(['Minor'], '1')\n",
    "    df_train = df_train.replace(['Extreme'], '2')\n",
    "    # print(df_train[\"Severity of Illness\"].value_counts())\n",
    "\n",
    "    # 0 -> Trauma / 1 -> Emergency / 2 -> Urgent\n",
    "    # print(df[\"Type of Admission\"].value_counts())\n",
    "    df_train = df_train.replace(['Trauma'], '0')\n",
    "    df_train = df_train.replace(['Emergency'], '1')\n",
    "    df_train = df_train.replace(['Urgent'], '2')\n",
    "    # print(df_train[\"Type of Admission\"].value_counts())\n",
    "\n",
    "    # 0 -> 41-50 / 1 -> 31-40 / 2 -> 51-60 / 3 -> 21-30 / 4 -> 71-80 / 5 -> 61-70\n",
    "    # / 6 -> 11-20 / 7 -> 81-90 / 8 -> 0-10 / 9 -> 91-100\n",
    "    # print(df[\"Age\"].value_counts())\n",
    "    df_train = df_train.replace(['41-50'], '0')\n",
    "    df_train = df_train.replace(['31-40'], '1')\n",
    "    df_train = df_train.replace(['51-60'], '2')\n",
    "    df_train = df_train.replace(['21-30'], '3')\n",
    "    df_train = df_train.replace(['71-80'], '4')\n",
    "    df_train = df_train.replace(['61-70'], '5')\n",
    "    df_train = df_train.replace(['11-20'], '6')\n",
    "    df_train = df_train.replace(['81-90'], '7')\n",
    "    df_train = df_train.replace(['0-10'], '8')\n",
    "    df_train = df_train.replace(['91-100'], '9')\n",
    "    # print(df_train[\"Age\"].value_counts())\n",
    "\n",
    "    # 0 -> 21-30 / 1 -> 11-20 / 2 -> 31-40 / 3 -> 51-60 / 4 -> 0-10 / 5 -> 41-50\n",
    "    # 6 -> 71-80 / 7 -> More than 100 Days /  8 -> 81-90 / 9 -> 91-100 / 10 -> 61-70\n",
    "    # print(df[\"Stay\"].value_counts())\n",
    "    df_train = df_train.replace(['21-30'], '0')\n",
    "    df_train = df_train.replace(['11-20'], '1')\n",
    "    df_train = df_train.replace(['31-40'], '2')\n",
    "    df_train = df_train.replace(['51-60'], '3')\n",
    "    df_train = df_train.replace(['0-10'], '4')\n",
    "    df_train = df_train.replace(['41-50'], '5')\n",
    "    df_train = df_train.replace(['71-80'], '6')\n",
    "    df_train = df_train.replace(['More than 100 Days'], '7')\n",
    "    df_train = df_train.replace(['81-90'], '8')\n",
    "    df_train = df_train.replace(['91-100'], '9')\n",
    "    df_train = df_train.replace(['61-70'], '10')\n",
    "    # print(df_train[\"Stay\"].value_counts())"
   ]
  },
  {
   "cell_type": "code",
   "execution_count": 334,
   "id": "4b4ecd08",
   "metadata": {},
   "outputs": [],
   "source": [
    "# TEST dataset converted to digitized\n",
    "## alternatively labelEncoder() can be used"
   ]
  },
  {
   "cell_type": "code",
   "execution_count": 335,
   "id": "f10b23a5",
   "metadata": {},
   "outputs": [],
   "source": [
    "    df_test = df_test[\n",
    "        [\"Hospital_code\", \"patientid\", \"Department\", \"Age\", \"Severity of Illness\", \"Type of Admission\"]].copy()\n",
    "\n",
    "    # 0 ->  gynecology / 1 -> anesthesia / 2-> radiotherapy / 3 -> TB & Chest disease / 4 -> surgery\n",
    "    # print(df_test[\"Department\"].value_counts())\n",
    "    df_test = df_test.replace(['gynecology'], '0')\n",
    "    df_test = df_test.replace(['anesthesia'], '1')\n",
    "    df_test = df_test.replace(['radiotherapy'], '2')\n",
    "    df_test = df_test.replace(['TB & Chest disease'], '3')\n",
    "    df_test = df_test.replace(['surgery'], '4')\n",
    "    # print(df_test[\"Department\"].value_counts())\n",
    "\n",
    "    # 0 -> Moderate / 1 -> Minor / 2 -> Extreme / 3 -> Severity of Illness\n",
    "    # print(df_test[\"Severity of Illness\"].value_counts())\n",
    "    df_test = df_test.replace(['Moderate'], '0')\n",
    "    df_test = df_test.replace(['Minor'], '1')\n",
    "    df_test = df_test.replace(['Extreme'], '2')\n",
    "    # print(df_test[\"Severity of Illness\"].value_counts())\n",
    "\n",
    "    # 0 -> Trauma / 1 -> Emergency / 2 -> Urgent\n",
    "    # print(df_test[\"Type of Admission\"].value_counts())\n",
    "    df_test = df_test.replace(['Trauma'], '0')\n",
    "    df_test = df_test.replace(['Emergency'], '1')\n",
    "    df_test = df_test.replace(['Urgent'], '2')\n",
    "    # print(df_test[\"Type of Admission\"].value_counts())\n",
    "\n",
    "    # 0 -> 41-50 / 1 -> 31-40 / 2 -> 51-60 / 3 -> 21-30 / 4 -> 71-80 / 5 -> 61-70\n",
    "    # / 6 -> 11-20 / 7 -> 81-90 / 8 -> 0-10 / 9 -> 91-100\n",
    "    # print(df_test[\"Age\"].value_counts())\n",
    "    df_test = df_test.replace(['41-50'], '0')\n",
    "    df_test = df_test.replace(['31-40'], '1')\n",
    "    df_test = df_test.replace(['51-60'], '2')\n",
    "    df_test = df_test.replace(['21-30'], '3')\n",
    "    df_test = df_test.replace(['71-80'], '4')\n",
    "    df_test = df_test.replace(['61-70'], '5')\n",
    "    df_test = df_test.replace(['11-20'], '6')\n",
    "    df_test = df_test.replace(['81-90'], '7')\n",
    "    df_test = df_test.replace(['0-10'], '8')\n",
    "    df_test = df_test.replace(['91-100'], '9')\n",
    "    # print(df_test[\"Age\"].value_counts())"
   ]
  },
  {
   "cell_type": "markdown",
   "id": "4dde48ee",
   "metadata": {},
   "source": [
    "## MLOPS"
   ]
  },
  {
   "cell_type": "code",
   "execution_count": 336,
   "id": "bcf453f6",
   "metadata": {},
   "outputs": [],
   "source": [
    "    combined = [df_train, df_test]\n",
    "    train = combined[0]\n",
    "    test = combined[1]"
   ]
  },
  {
   "cell_type": "code",
   "execution_count": 337,
   "id": "ae286b07",
   "metadata": {},
   "outputs": [
    {
     "data": {
      "image/png": "[encoded data removed]",
      "text/plain": [
       "<Figure size 432x288 with 2 Axes>"
      ]
     },
     "metadata": {},
     "output_type": "display_data"
    }
   ],
   "source": [
    "    np.random.seed(0)\n",
    "    sns.set()\n",
    "    combined[0] = np.random.rand(10, 12)\n",
    "    ax = sns.heatmap(combined[0], vmin=0, vmax=1)\n",
    "    plt.show()"
   ]
  },
  {
   "cell_type": "code",
   "execution_count": 338,
   "id": "0f1b7aa1",
   "metadata": {},
   "outputs": [],
   "source": [
    "    X_train = train.drop(\"Stay\", axis=1)\n",
    "    y_train = train[\"Stay\"]\n",
    "    X_test = test.copy()"
   ]
  },
  {
   "cell_type": "code",
   "execution_count": 339,
   "id": "9acac871",
   "metadata": {},
   "outputs": [],
   "source": [
    "    # X_train, X_test, y_train, y_test= train_test_split(X,y,test_size= 0.2, random_state=42)"
   ]
  },
  {
   "cell_type": "code",
   "execution_count": 340,
   "id": "f9e0ce9b",
   "metadata": {},
   "outputs": [
    {
     "data": {
      "text/plain": [
       "(318438, 6)"
      ]
     },
     "execution_count": 340,
     "metadata": {},
     "output_type": "execute_result"
    }
   ],
   "source": [
    "    X_train.shape"
   ]
  },
  {
   "cell_type": "code",
   "execution_count": 341,
   "id": "721b7f2d",
   "metadata": {},
   "outputs": [
    {
     "data": {
      "text/plain": [
       "(137057, 6)"
      ]
     },
     "execution_count": 341,
     "metadata": {},
     "output_type": "execute_result"
    }
   ],
   "source": [
    "    X_test.shape"
   ]
  },
  {
   "cell_type": "code",
   "execution_count": 342,
   "id": "6e9b40f7",
   "metadata": {},
   "outputs": [
    {
     "data": {
      "text/plain": [
       "(318438, 7)"
      ]
     },
     "execution_count": 342,
     "metadata": {},
     "output_type": "execute_result"
    }
   ],
   "source": [
    "    train.shape"
   ]
  },
  {
   "cell_type": "code",
   "execution_count": 343,
   "id": "f9c24249",
   "metadata": {},
   "outputs": [
    {
     "name": "stdout",
     "output_type": "stream",
     "text": [
      "TRAIN KNN: 54.86\n",
      "TEST KNN: 100.0\n"
     ]
    }
   ],
   "source": [
    "    knn = KNeighborsClassifier(n_neighbors=3)\n",
    "    knn.fit(X_train, Y_train)\n",
    "    Y_pred = knn.predict(X_test)\n",
    "    acc_knn = round(knn.score(X_train, Y_train) * 100, 2)\n",
    "    print(\"TRAIN KNN:\", acc_knn)\n",
    "    print(\"TEST KNN:\", round(knn.score(X_test, Y_pred) * 100, 2))"
   ]
  },
  {
   "cell_type": "code",
   "execution_count": 344,
   "id": "a9ab1c3a",
   "metadata": {},
   "outputs": [
    {
     "name": "stdout",
     "output_type": "stream",
     "text": [
      "TRAIN Decision Tree: 96.39\n",
      "TEST Decision Tree: 100.0\n"
     ]
    }
   ],
   "source": [
    "    decision_tree = DecisionTreeClassifier()\n",
    "    decision_tree.fit(X_train, Y_train)\n",
    "    Y_pred = decision_tree.predict(X_test)\n",
    "    acc_decision = round(decision_tree.score(X_train, Y_train) * 100, 2)\n",
    "    print(\"TRAIN Decision Tree:\", acc_decision)\n",
    "    print(\"TEST Decision Tree:\", round(decision_tree.score(X_test, Y_pred) * 100, 2))"
   ]
  },
  {
   "cell_type": "code",
   "execution_count": 345,
   "id": "8ee62bdb",
   "metadata": {},
   "outputs": [
    {
     "name": "stdout",
     "output_type": "stream",
     "text": [
      "TRAIN Random Forest: 96.39\n",
      "TEST Random Forest:  100.0\n"
     ]
    }
   ],
   "source": [
    "    random_forest = RandomForestClassifier(n_estimators=100)\n",
    "    random_forest.fit(X_train, Y_train)\n",
    "    Y_pred = random_forest.predict(X_test)\n",
    "    acc_random_forest = round(random_forest.score(X_train, Y_train) * 100, 2)\n",
    "    print(\"TRAIN Random Forest:\", acc_random_forest)\n",
    "    print(\"TEST Random Forest: \",round(random_forest.score(X_test, Y_pred) * 100, 2))"
   ]
  },
  {
   "cell_type": "code",
   "execution_count": 346,
   "id": "0aeea4ad",
   "metadata": {},
   "outputs": [
    {
     "name": "stdout",
     "output_type": "stream",
     "text": [
      "TRAIN Logistic Regression: 27.0\n",
      "TEST Logisctic Regression: 100.0\n"
     ]
    }
   ],
   "source": [
    "    logreg = LogisticRegression()\n",
    "    logreg.fit(X_train, Y_train)\n",
    "    Y_pred=logreg.predict(X_test)\n",
    "    acc_logreg = round(logreg.score(X_train, Y_train) * 100, 2)\n",
    "    print(\"TRAIN Logistic Regression:\", acc_logreg)\n",
    "    print(\"TEST Logisctic Regression:\", round(logreg.score(X_test, Y_pred) * 100, 2))"
   ]
  },
  {
   "cell_type": "code",
   "execution_count": 347,
   "id": "fd73937c",
   "metadata": {},
   "outputs": [
    {
     "name": "stdout",
     "output_type": "stream",
     "text": [
      "TRAIN Linear Regression: 27.73\n",
      "TEST Linear Regression: 78.02\n"
     ]
    }
   ],
   "source": [
    "    naivebayes = GaussianNB()\n",
    "    naivebayes.fit(X_train, Y_train)\n",
    "    y_pred = naivebayes.predict(X_test)\n",
    "    acc_bayes = round(naivebayes.score(X_train, Y_train) * 100, 2)\n",
    "    print(\"TRAIN Linear Regression:\", acc_bayes)\n",
    "    print(\"TEST Linear Regression:\", round(naivebayes.score(X_test, Y_pred) * 100, 2))"
   ]
  },
  {
   "cell_type": "code",
   "execution_count": 348,
   "id": "03587936",
   "metadata": {},
   "outputs": [
    {
     "data": {
      "text/plain": [
       "<AxesSubplot:>"
      ]
     },
     "execution_count": 348,
     "metadata": {},
     "output_type": "execute_result"
    },
    {
     "data": {
      "image/png": "[encoded data removed]",
      "text/plain": [
       "<Figure size 432x288 with 1 Axes>"
      ]
     },
     "metadata": {},
     "output_type": "display_data"
    }
   ],
   "source": [
    "sns.barplot(x= ['KNN','DT','RF', 'LR', 'NB'],y= [acc_knn, acc_decision_tree,acc_random_forest, acc_logreg, acc_bayes])"
   ]
  },
  {
   "cell_type": "markdown",
   "id": "1f55c504",
   "metadata": {},
   "source": [
    "## FEATURE EXTRACTION"
   ]
  },
  {
   "cell_type": "code",
   "execution_count": 349,
   "id": "315d0921",
   "metadata": {},
   "outputs": [],
   "source": [
    "#  -----------------------------FEATURE EXTRACTION WITH TRAIN --------------------------------------\n",
    "## Severity of Illness -> Extreme and Age -> 61... if greater then create column named priority and 1 will be set \n",
    "## otherwise priority status will be 0"
   ]
  },
  {
   "cell_type": "code",
   "execution_count": 350,
   "id": "813ac853",
   "metadata": {},
   "outputs": [
    {
     "name": "stdout",
     "output_type": "stream",
     "text": [
      "rslt_df size:(56723, 7)\n"
     ]
    },
    {
     "data": {
      "text/html": [
       "<div>\n",
       "<style scoped>\n",
       "    .dataframe tbody tr th:only-of-type {\n",
       "        vertical-align: middle;\n",
       "    }\n",
       "\n",
       "    .dataframe tbody tr th {\n",
       "        vertical-align: top;\n",
       "    }\n",
       "\n",
       "    .dataframe thead th {\n",
       "        text-align: right;\n",
       "    }\n",
       "</style>\n",
       "<table border=\"1\" class=\"dataframe\">\n",
       "  <thead>\n",
       "    <tr style=\"text-align: right;\">\n",
       "      <th></th>\n",
       "      <th>Hospital_code</th>\n",
       "      <th>patientid</th>\n",
       "      <th>Department</th>\n",
       "      <th>Age</th>\n",
       "      <th>Severity of Illness</th>\n",
       "      <th>Type of Admission</th>\n",
       "      <th>priority</th>\n",
       "      <th>Stay</th>\n",
       "    </tr>\n",
       "  </thead>\n",
       "  <tbody>\n",
       "    <tr>\n",
       "      <th>0</th>\n",
       "      <td>8.0</td>\n",
       "      <td>31397.0</td>\n",
       "      <td>2</td>\n",
       "      <td>2</td>\n",
       "      <td>2</td>\n",
       "      <td>1</td>\n",
       "      <td>1</td>\n",
       "      <td>8</td>\n",
       "    </tr>\n",
       "    <tr>\n",
       "      <th>1</th>\n",
       "      <td>2.0</td>\n",
       "      <td>31397.0</td>\n",
       "      <td>2</td>\n",
       "      <td>2</td>\n",
       "      <td>2</td>\n",
       "      <td>0</td>\n",
       "      <td>1</td>\n",
       "      <td>0</td>\n",
       "    </tr>\n",
       "    <tr>\n",
       "      <th>2</th>\n",
       "      <td>10.0</td>\n",
       "      <td>31397.0</td>\n",
       "      <td>1</td>\n",
       "      <td>2</td>\n",
       "      <td>2</td>\n",
       "      <td>0</td>\n",
       "      <td>1</td>\n",
       "      <td>1</td>\n",
       "    </tr>\n",
       "    <tr>\n",
       "      <th>3</th>\n",
       "      <td>26.0</td>\n",
       "      <td>31397.0</td>\n",
       "      <td>2</td>\n",
       "      <td>2</td>\n",
       "      <td>2</td>\n",
       "      <td>0</td>\n",
       "      <td>1</td>\n",
       "      <td>0</td>\n",
       "    </tr>\n",
       "    <tr>\n",
       "      <th>4</th>\n",
       "      <td>26.0</td>\n",
       "      <td>31397.0</td>\n",
       "      <td>2</td>\n",
       "      <td>2</td>\n",
       "      <td>2</td>\n",
       "      <td>0</td>\n",
       "      <td>1</td>\n",
       "      <td>0</td>\n",
       "    </tr>\n",
       "  </tbody>\n",
       "</table>\n",
       "</div>"
      ],
      "text/plain": [
       "   Hospital_code  patientid  Department  Age  Severity of Illness  \\\n",
       "0            8.0    31397.0           2    2                    2   \n",
       "1            2.0    31397.0           2    2                    2   \n",
       "2           10.0    31397.0           1    2                    2   \n",
       "3           26.0    31397.0           2    2                    2   \n",
       "4           26.0    31397.0           2    2                    2   \n",
       "\n",
       "   Type of Admission  priority  Stay  \n",
       "0                  1         1     8  \n",
       "1                  0         1     0  \n",
       "2                  0         1     1  \n",
       "3                  0         1     0  \n",
       "4                  0         1     0  "
      ]
     },
     "execution_count": 350,
     "metadata": {},
     "output_type": "execute_result"
    }
   ],
   "source": [
    "    df_copy_train = df_train\n",
    "    options_sol = ['2']\n",
    "    rslt_df = df_copy_train.loc[df_copy_train['Severity of Illness'].isin(options_sol)]\n",
    "\n",
    "    options_age = ['4', '5', '7', '9']\n",
    "    rslt_df_age = df_copy_train.loc[df_copy_train['Age'].isin(options_age)]\n",
    "    \n",
    "    df_feature_ext = df_copy_train.copy()\n",
    "    \n",
    "    print(\"rslt_df size:\" + str(rslt_df.shape))\n",
    "    common = rslt_df.merge(rslt_df_age, left_index=True, right_index=True, how='outer', suffixes=('', '_drop'))\n",
    "    common.drop(common.filter(regex='_y$').columns.tolist(), axis=1, inplace=False)\n",
    "    # print(\"merged two column : \", common[\"Stay\"])\n",
    "    # print(common.isnull().sum())\n",
    "    common.loc[common[\"Hospital_code\"].isnull(), \"Hospital_code\"] = \"0\"\n",
    "    common.loc[common[\"patientid\"].isnull(), \"patientid\"] = \"0\"\n",
    "    common.loc[common[\"Department\"].isnull(), \"Department\"] = \"0\"\n",
    "    common.loc[common[\"Age\"].isnull(), \"Age\"] = \"0\"\n",
    "    common.loc[common[\"Severity of Illness\"].isnull(), \"Severity of Illness\"] = \"0\"\n",
    "    common.loc[common[\"Type of Admission\"].isnull(), \"Type of Admission\"] = \"0\"\n",
    "    common.loc[common[\"Stay\"].isnull(), \"Stay\"] = \"0\"\n",
    "    # print(common.isnull().sum())\n",
    "\n",
    "    f = open(\"train_join.csv\", \"w\")\n",
    "    f.write(\"Hospital_code,patientid,Department,Age,Severity of Illness,Type of Admission,priority,Stay\\n\")\n",
    "    for (i, row) in common.iterrows():\n",
    "        if common[\"Hospital_code\"][i] == \"0\" and common[\"patientid\"][i] == \"0\" and common[\"Department\"][i] == \"0\" and \\\n",
    "                common[\"Age\"][i] == \"0\" and common[\"Severity of Illness\"][i] == \"0\" and common[\"Type of Admission\"][\n",
    "            i] == \"0\" and common[\"Stay\"][i] == \"0\":\n",
    "            row[\"Hospital_code\"] = df_copy_train[\"Hospital_code\"][i]\n",
    "            row[\"patientid\"] = df_copy_train[\"patientid\"][i]\n",
    "            row[\"Department\"] = df_copy_train[\"Department\"][i]\n",
    "            row[\"Age\"] = df_copy_train[\"Age\"][i]\n",
    "            row[\"Severity of Illness\"] = df_copy_train[\"Severity of Illness\"][i]\n",
    "            row[\"Type of Admission\"] = df_copy_train[\"Type of Admission\"][i]\n",
    "            row[\"Stay\"] = df_copy_train[\"Stay\"][i]\n",
    "\n",
    "            # row[\"priority\"] = \"NO\"\n",
    "            row[\"priority\"] = \"0\"\n",
    "\n",
    "        else:\n",
    "            # row[\"priority\"] = \"YES\"\n",
    "            row[\"priority\"] = \"1\"\n",
    "\n",
    "        f.write(str(row[\"Hospital_code\"]) + \",\" + str(row[\"patientid\"]) + \",\" + str(row[\"Department\"]) + \",\" + str(\n",
    "            row[\"Age\"]) + \",\" + str(row[\"Severity of Illness\"]) + \",\" + str(row[\"Type of Admission\"]) + \",\" +\n",
    "                str(row[\"priority\"]) + \",\" + str(row[\"Stay\"]) + \"\\n\")\n",
    "    file = open(\"train_join.csv\", \"r\")\n",
    "    df_common = pd.read_csv(file)\n",
    "    df_common.head()"
   ]
  },
  {
   "cell_type": "code",
   "execution_count": 351,
   "id": "f6160922",
   "metadata": {},
   "outputs": [],
   "source": [
    "#  -----------------------------FEATURE EXTRACTION WITH TEST --------------------------------------\n",
    "## Severity of Illness -> Extreme and Age -> 61... if greater then create column named priority and 1 will be set \n",
    "## otherwise priority status will be 0"
   ]
  },
  {
   "cell_type": "code",
   "execution_count": 352,
   "id": "47e24073",
   "metadata": {},
   "outputs": [
    {
     "data": {
      "text/html": [
       "<div>\n",
       "<style scoped>\n",
       "    .dataframe tbody tr th:only-of-type {\n",
       "        vertical-align: middle;\n",
       "    }\n",
       "\n",
       "    .dataframe tbody tr th {\n",
       "        vertical-align: top;\n",
       "    }\n",
       "\n",
       "    .dataframe thead th {\n",
       "        text-align: right;\n",
       "    }\n",
       "</style>\n",
       "<table border=\"1\" class=\"dataframe\">\n",
       "  <thead>\n",
       "    <tr style=\"text-align: right;\">\n",
       "      <th></th>\n",
       "      <th>Hospital_code</th>\n",
       "      <th>patientid</th>\n",
       "      <th>Department</th>\n",
       "      <th>Age</th>\n",
       "      <th>Severity of Illness</th>\n",
       "      <th>Type of Admission</th>\n",
       "      <th>priority</th>\n",
       "    </tr>\n",
       "  </thead>\n",
       "  <tbody>\n",
       "    <tr>\n",
       "      <th>0</th>\n",
       "      <td>8.0</td>\n",
       "      <td>31397.0</td>\n",
       "      <td>2</td>\n",
       "      <td>2</td>\n",
       "      <td>2</td>\n",
       "      <td>1</td>\n",
       "      <td>0</td>\n",
       "    </tr>\n",
       "    <tr>\n",
       "      <th>1</th>\n",
       "      <td>2.0</td>\n",
       "      <td>31397.0</td>\n",
       "      <td>2</td>\n",
       "      <td>2</td>\n",
       "      <td>2</td>\n",
       "      <td>0</td>\n",
       "      <td>0</td>\n",
       "    </tr>\n",
       "    <tr>\n",
       "      <th>2</th>\n",
       "      <td>10.0</td>\n",
       "      <td>31397.0</td>\n",
       "      <td>1</td>\n",
       "      <td>2</td>\n",
       "      <td>2</td>\n",
       "      <td>0</td>\n",
       "      <td>0</td>\n",
       "    </tr>\n",
       "    <tr>\n",
       "      <th>3</th>\n",
       "      <td>26.0</td>\n",
       "      <td>31397.0</td>\n",
       "      <td>2</td>\n",
       "      <td>2</td>\n",
       "      <td>2</td>\n",
       "      <td>0</td>\n",
       "      <td>0</td>\n",
       "    </tr>\n",
       "    <tr>\n",
       "      <th>4</th>\n",
       "      <td>26.0</td>\n",
       "      <td>31397.0</td>\n",
       "      <td>2</td>\n",
       "      <td>2</td>\n",
       "      <td>2</td>\n",
       "      <td>0</td>\n",
       "      <td>0</td>\n",
       "    </tr>\n",
       "    <tr>\n",
       "      <th>5</th>\n",
       "      <td>23.0</td>\n",
       "      <td>31397.0</td>\n",
       "      <td>1</td>\n",
       "      <td>2</td>\n",
       "      <td>2</td>\n",
       "      <td>0</td>\n",
       "      <td>0</td>\n",
       "    </tr>\n",
       "    <tr>\n",
       "      <th>6</th>\n",
       "      <td>32.0</td>\n",
       "      <td>31397.0</td>\n",
       "      <td>2</td>\n",
       "      <td>2</td>\n",
       "      <td>2</td>\n",
       "      <td>1</td>\n",
       "      <td>0</td>\n",
       "    </tr>\n",
       "    <tr>\n",
       "      <th>7</th>\n",
       "      <td>31.0</td>\n",
       "      <td>111851.0</td>\n",
       "      <td>0</td>\n",
       "      <td>0</td>\n",
       "      <td>2</td>\n",
       "      <td>1</td>\n",
       "      <td>1</td>\n",
       "    </tr>\n",
       "    <tr>\n",
       "      <th>8</th>\n",
       "      <td>6.0</td>\n",
       "      <td>111851.0</td>\n",
       "      <td>0</td>\n",
       "      <td>0</td>\n",
       "      <td>2</td>\n",
       "      <td>0</td>\n",
       "      <td>1</td>\n",
       "    </tr>\n",
       "    <tr>\n",
       "      <th>9</th>\n",
       "      <td>1.0</td>\n",
       "      <td>111851.0</td>\n",
       "      <td>0</td>\n",
       "      <td>0</td>\n",
       "      <td>2</td>\n",
       "      <td>0</td>\n",
       "      <td>1</td>\n",
       "    </tr>\n",
       "  </tbody>\n",
       "</table>\n",
       "</div>"
      ],
      "text/plain": [
       "   Hospital_code  patientid  Department  Age  Severity of Illness  \\\n",
       "0            8.0    31397.0           2    2                    2   \n",
       "1            2.0    31397.0           2    2                    2   \n",
       "2           10.0    31397.0           1    2                    2   \n",
       "3           26.0    31397.0           2    2                    2   \n",
       "4           26.0    31397.0           2    2                    2   \n",
       "5           23.0    31397.0           1    2                    2   \n",
       "6           32.0    31397.0           2    2                    2   \n",
       "7           31.0   111851.0           0    0                    2   \n",
       "8            6.0   111851.0           0    0                    2   \n",
       "9            1.0   111851.0           0    0                    2   \n",
       "\n",
       "   Type of Admission  priority  \n",
       "0                  1         0  \n",
       "1                  0         0  \n",
       "2                  0         0  \n",
       "3                  0         0  \n",
       "4                  0         0  \n",
       "5                  0         0  \n",
       "6                  1         0  \n",
       "7                  1         1  \n",
       "8                  0         1  \n",
       "9                  0         1  "
      ]
     },
     "execution_count": 352,
     "metadata": {},
     "output_type": "execute_result"
    }
   ],
   "source": [
    "    df_copy_test = df_test.copy()\n",
    "    options_sol = ['2']\n",
    "    rslt_df_test = df_copy_test.loc[df_copy_test['Severity of Illness'].isin(options_sol)]\n",
    "    # print('\\nResult Severity of Illness :\\n', rslt_df_test)\n",
    "\n",
    "    options_age = ['4', '5', '7', '9']\n",
    "    rslt_df_test_age = df_copy_test.loc[df_copy_test['Age'].isin(options_age)]\n",
    "    # print('\\nResult Age :\\n', rslt_df_test_age)\n",
    "\n",
    "    common = rslt_df_test.merge(rslt_df_test_age, left_index=True, right_index=True, how='outer',\n",
    "                                suffixes=('', '_drop'))\n",
    "    common.drop(common.filter(regex='_y$').columns.tolist(), axis=1, inplace=False)\n",
    "\n",
    "    common.loc[common[\"Hospital_code\"].isnull(), \"Hospital_code\"] = \"0\"\n",
    "    common.loc[common[\"patientid\"].isnull(), \"patientid\"] = \"0\"\n",
    "    common.loc[common[\"Department\"].isnull(), \"Department\"] = \"0\"\n",
    "    common.loc[common[\"Age\"].isnull(), \"Age\"] = \"0\"\n",
    "    common.loc[common[\"Severity of Illness\"].isnull(), \"Severity of Illness\"] = \"0\"\n",
    "    common.loc[common[\"Type of Admission\"].isnull(), \"Type of Admission\"] = \"0\"\n",
    "    # print(common.isnull().sum())\n",
    "\n",
    "    f = open(\"test_join.csv\", \"w\")\n",
    "    f.write(\"Hospital_code,patientid,Department,Age,Severity of Illness,Type of Admission,priority\\n\")\n",
    "    for (i, row) in common.iterrows():\n",
    "        if common[\"Hospital_code\"][i] == \"0\" and common[\"patientid\"][i] == \"0\" and common[\"Department\"][i] == \"0\" and \\\n",
    "                common[\"Age\"][i] == \"0\" and common[\"Severity of Illness\"][i] == \"0\" and common[\"Type of Admission\"][\n",
    "            i] == \"0\":\n",
    "            row[\"Hospital_code\"] = df_train[\"Hospital_code\"][i]\n",
    "            row[\"patientid\"] = df_train[\"patientid\"][i]\n",
    "            row[\"Department\"] = df_train[\"Department\"][i]\n",
    "            row[\"Age\"] = df_train[\"Age\"][i]\n",
    "            row[\"Severity of Illness\"] = df_train[\"Severity of Illness\"][i]\n",
    "            row[\"Type of Admission\"] = df_train[\"Type of Admission\"][i]\n",
    "\n",
    "            # row[\"priority\"] = \"NO\"\n",
    "            row[\"priority\"] = \"0\"\n",
    "\n",
    "        else:\n",
    "            # row[\"priority\"] = \"YES\"\n",
    "            row[\"priority\"] = \"1\"\n",
    "\n",
    "        f.write(str(row[\"Hospital_code\"]) + \",\" + str(row[\"patientid\"]) + \",\" + str(row[\"Department\"]) + \",\" + str(\n",
    "            row[\"Age\"]) + \",\" + str(row[\"Severity of Illness\"]) + \",\" + str(row[\"Type of Admission\"]) + \",\"\n",
    "                + str(row[\"priority\"]) + \"\\n\")\n",
    "    file_test = open(\"test_join.csv\", \"r\")\n",
    "    df_test_common = pd.read_csv(file_test)\n",
    "    df_test_common.head(10)"
   ]
  },
  {
   "cell_type": "markdown",
   "id": "17dcd1f6",
   "metadata": {},
   "source": [
    "## MLOPS with F.Extraction"
   ]
  },
  {
   "cell_type": "code",
   "execution_count": 353,
   "id": "5a324f60",
   "metadata": {},
   "outputs": [],
   "source": [
    "X_Feat_train = df_common[\n",
    "        [\"Hospital_code\", \"patientid\", \"Department\", \"Age\", \"Severity of Illness\", \"Type of Admission\", \"priority\"]]\n",
    "Y_Feat_train = df_common[[\"Stay\"]]\n",
    "X_Feat_test = df_test_common[\n",
    "        [\"Hospital_code\", \"patientid\", \"Department\", \"Age\", \"Severity of Illness\", \"Type of Admission\", \"priority\"]]"
   ]
  },
  {
   "cell_type": "code",
   "execution_count": 366,
   "id": "c1b8899b",
   "metadata": {},
   "outputs": [
    {
     "name": "stdout",
     "output_type": "stream",
     "text": [
      "TRAIN Decision Tree: 95.66\n",
      "VALIDATION Decision Tree: 100.0\n"
     ]
    }
   ],
   "source": [
    "    decision_tree = DecisionTreeClassifier()\n",
    "    decision_tree.fit(X_Feat_train, Y_Feat_train)\n",
    "    Y_pred = decision_tree.predict(X_Feat_test)\n",
    "    acc_decision_tree = round(decision_tree.score(X_Feat_train, Y_Feat_train) * 100, 2)\n",
    "    print(\"TRAIN Decision Tree:\", acc_decision_tree)\n",
    "    print(\"VALIDATION Decision Tree:\", round(decision_tree.score(X_Feat_test, Y_pred) * 100, 2))"
   ]
  },
  {
   "cell_type": "markdown",
   "id": "4668d67a",
   "metadata": {},
   "source": [
    "## VALIDATION"
   ]
  },
  {
   "cell_type": "code",
   "execution_count": 355,
   "id": "bff5e71f",
   "metadata": {},
   "outputs": [],
   "source": [
    "x_train, x_val, y_train, y_val = train_test_split(X_train, Y_train,\n",
    "                                                      test_size=0.30, shuffle=False)"
   ]
  },
  {
   "cell_type": "code",
   "execution_count": 364,
   "id": "b1b7b404",
   "metadata": {},
   "outputs": [
    {
     "name": "stdout",
     "output_type": "stream",
     "text": [
      "TRAIN Decision Tree: 95.76\n",
      "VALIDATION Decision Tree: 100.0\n"
     ]
    }
   ],
   "source": [
    "    decision_tree = DecisionTreeClassifier()\n",
    "    decision_tree.fit(x_train, y_train)\n",
    "    Y_pred = decision_tree.predict(x_val)\n",
    "    acc_decision_tree = round(decision_tree.score(x_train, y_train) * 100, 2)\n",
    "    print(\"TRAIN Decision Tree:\", acc_decision_tree)\n",
    "    print(\"VALIDATION Decision Tree:\", round(decision_tree.score(x_val, Y_pred) * 100, 2))"
   ]
  },
  {
   "cell_type": "code",
   "execution_count": null,
   "id": "03857c12",
   "metadata": {},
   "outputs": [],
   "source": []
  },
  {
   "cell_type": "code",
   "execution_count": null,
   "id": "f73e0c5c",
   "metadata": {},
   "outputs": [],
   "source": []
  }
 ],
 "metadata": {
  "kernelspec": {
   "display_name": "Python 3 (ipykernel)",
   "language": "python",
   "name": "python3"
  },
  "language_info": {
   "codemirror_mode": {
    "name": "ipython",
    "version": 3
   },
   "file_extension": ".py",
   "mimetype": "text/x-python",
   "name": "python",
   "nbconvert_exporter": "python",
   "pygments_lexer": "ipython3",
   "version": "3.9.7"
  }
 },
 "nbformat": 4,
 "nbformat_minor": 5
}
