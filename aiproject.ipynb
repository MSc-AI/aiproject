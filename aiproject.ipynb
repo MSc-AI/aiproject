{
 "cells": [
  {
   "cell_type": "markdown",
   "id": "f7e8b7cf",
   "metadata": {},
   "source": [
    "## Install Packages"
   ]
  },
  {
   "cell_type": "code",
   "execution_count": 198,
   "id": "af1ae6f5",
   "metadata": {},
   "outputs": [
    {
     "name": "stdout",
     "output_type": "stream",
     "text": [
      "Requirement already satisfied: seaborn in /opt/anaconda3/lib/python3.9/site-packages (0.11.2)\n",
      "Requirement already satisfied: pandas>=0.23 in /opt/anaconda3/lib/python3.9/site-packages (from seaborn) (1.3.4)\n",
      "Requirement already satisfied: scipy>=1.0 in /opt/anaconda3/lib/python3.9/site-packages (from seaborn) (1.7.1)\n",
      "Requirement already satisfied: matplotlib>=2.2 in /opt/anaconda3/lib/python3.9/site-packages (from seaborn) (3.4.3)\n",
      "Requirement already satisfied: numpy>=1.15 in /opt/anaconda3/lib/python3.9/site-packages (from seaborn) (1.20.3)\n",
      "Requirement already satisfied: python-dateutil>=2.7 in /opt/anaconda3/lib/python3.9/site-packages (from matplotlib>=2.2->seaborn) (2.8.2)\n",
      "Requirement already satisfied: kiwisolver>=1.0.1 in /opt/anaconda3/lib/python3.9/site-packages (from matplotlib>=2.2->seaborn) (1.3.1)\n",
      "Requirement already satisfied: cycler>=0.10 in /opt/anaconda3/lib/python3.9/site-packages (from matplotlib>=2.2->seaborn) (0.10.0)\n",
      "Requirement already satisfied: pillow>=6.2.0 in /opt/anaconda3/lib/python3.9/site-packages (from matplotlib>=2.2->seaborn) (8.4.0)\n",
      "Requirement already satisfied: pyparsing>=2.2.1 in /opt/anaconda3/lib/python3.9/site-packages (from matplotlib>=2.2->seaborn) (3.0.4)\n",
      "Requirement already satisfied: six in /opt/anaconda3/lib/python3.9/site-packages (from cycler>=0.10->matplotlib>=2.2->seaborn) (1.16.0)\n",
      "Requirement already satisfied: pytz>=2017.3 in /opt/anaconda3/lib/python3.9/site-packages (from pandas>=0.23->seaborn) (2021.3)\n",
      "Note: you may need to restart the kernel to use updated packages.\n"
     ]
    }
   ],
   "source": [
    "%pip install seaborn\n",
    "%matplotlib inline"
   ]
  },
  {
   "cell_type": "code",
   "execution_count": 199,
   "id": "09b1ccb7",
   "metadata": {},
   "outputs": [],
   "source": [
    "import numpy as np\n",
    "from sklearn.metrics import accuracy_score, confusion_matrix, classification_report\n",
    "from sklearn.model_selection import train_test_split\n",
    "from sklearn.neighbors import KNeighborsClassifier\n",
    "from sklearn.tree import DecisionTreeClassifier\n",
    "from sklearn.ensemble import RandomForestClassifier\n",
    "from sklearn.linear_model import LogisticRegression\n",
    "from sklearn.naive_bayes import GaussianNB\n",
    "from sklearn.metrics import confusion_matrix\n",
    "from sklearn.metrics import accuracy_score,recall_score,precision_score,f1_score,roc_auc_score\n",
    "from sklearn.preprocessing import RobustScaler\n",
    "import seaborn as sns\n",
    "from sklearn.preprocessing import LabelEncoder\n",
    "\n",
    "sns.set_style(\"whitegrid\")\n",
    "import pandas as pd\n",
    "import matplotlib.pyplot as plt"
   ]
  },
  {
   "cell_type": "markdown",
   "id": "a2cb010d",
   "metadata": {},
   "source": [
    "## Import CSV Files"
   ]
  },
  {
   "cell_type": "code",
   "execution_count": 200,
   "id": "af45a27a",
   "metadata": {},
   "outputs": [],
   "source": [
    "df = pd.read_csv(\"/Users/isa/Desktop/healthcare/aiproject/train_data.csv\")\n",
    "df_test = pd.read_csv(\"/Users/isa/Desktop/healthcare/aiproject/test_data.csv\")\n",
    "df_test_y = pd.read_csv(\"/Users/isa/Desktop/healthcare/aiproject/sample_sub.csv\")\n",
    "data_dict = pd.read_csv(\"/Users/isa/Desktop/healthcare/aiproject/train_data_dictionary.csv\")"
   ]
  },
  {
   "cell_type": "code",
   "execution_count": 201,
   "id": "331ddad6",
   "metadata": {},
   "outputs": [
    {
     "data": {
      "text/html": [
       "<div>\n",
       "<style scoped>\n",
       "    .dataframe tbody tr th:only-of-type {\n",
       "        vertical-align: middle;\n",
       "    }\n",
       "\n",
       "    .dataframe tbody tr th {\n",
       "        vertical-align: top;\n",
       "    }\n",
       "\n",
       "    .dataframe thead th {\n",
       "        text-align: right;\n",
       "    }\n",
       "</style>\n",
       "<table border=\"1\" class=\"dataframe\">\n",
       "  <thead>\n",
       "    <tr style=\"text-align: right;\">\n",
       "      <th></th>\n",
       "      <th>case_id</th>\n",
       "      <th>Hospital_code</th>\n",
       "      <th>Hospital_type_code</th>\n",
       "      <th>City_Code_Hospital</th>\n",
       "      <th>Hospital_region_code</th>\n",
       "      <th>Available Extra Rooms in Hospital</th>\n",
       "      <th>Department</th>\n",
       "      <th>Ward_Type</th>\n",
       "      <th>Ward_Facility_Code</th>\n",
       "      <th>Bed Grade</th>\n",
       "      <th>patientid</th>\n",
       "      <th>City_Code_Patient</th>\n",
       "      <th>Type of Admission</th>\n",
       "      <th>Severity of Illness</th>\n",
       "      <th>Visitors with Patient</th>\n",
       "      <th>Age</th>\n",
       "      <th>Admission_Deposit</th>\n",
       "      <th>Stay</th>\n",
       "    </tr>\n",
       "  </thead>\n",
       "  <tbody>\n",
       "    <tr>\n",
       "      <th>0</th>\n",
       "      <td>1</td>\n",
       "      <td>8</td>\n",
       "      <td>c</td>\n",
       "      <td>3</td>\n",
       "      <td>Z</td>\n",
       "      <td>3</td>\n",
       "      <td>radiotherapy</td>\n",
       "      <td>R</td>\n",
       "      <td>F</td>\n",
       "      <td>2.0</td>\n",
       "      <td>31397</td>\n",
       "      <td>7.0</td>\n",
       "      <td>Emergency</td>\n",
       "      <td>Extreme</td>\n",
       "      <td>2</td>\n",
       "      <td>51-60</td>\n",
       "      <td>4911.0</td>\n",
       "      <td>0-10</td>\n",
       "    </tr>\n",
       "    <tr>\n",
       "      <th>1</th>\n",
       "      <td>2</td>\n",
       "      <td>2</td>\n",
       "      <td>c</td>\n",
       "      <td>5</td>\n",
       "      <td>Z</td>\n",
       "      <td>2</td>\n",
       "      <td>radiotherapy</td>\n",
       "      <td>S</td>\n",
       "      <td>F</td>\n",
       "      <td>2.0</td>\n",
       "      <td>31397</td>\n",
       "      <td>7.0</td>\n",
       "      <td>Trauma</td>\n",
       "      <td>Extreme</td>\n",
       "      <td>2</td>\n",
       "      <td>51-60</td>\n",
       "      <td>5954.0</td>\n",
       "      <td>41-50</td>\n",
       "    </tr>\n",
       "    <tr>\n",
       "      <th>2</th>\n",
       "      <td>3</td>\n",
       "      <td>10</td>\n",
       "      <td>e</td>\n",
       "      <td>1</td>\n",
       "      <td>X</td>\n",
       "      <td>2</td>\n",
       "      <td>anesthesia</td>\n",
       "      <td>S</td>\n",
       "      <td>E</td>\n",
       "      <td>2.0</td>\n",
       "      <td>31397</td>\n",
       "      <td>7.0</td>\n",
       "      <td>Trauma</td>\n",
       "      <td>Extreme</td>\n",
       "      <td>2</td>\n",
       "      <td>51-60</td>\n",
       "      <td>4745.0</td>\n",
       "      <td>31-40</td>\n",
       "    </tr>\n",
       "    <tr>\n",
       "      <th>3</th>\n",
       "      <td>4</td>\n",
       "      <td>26</td>\n",
       "      <td>b</td>\n",
       "      <td>2</td>\n",
       "      <td>Y</td>\n",
       "      <td>2</td>\n",
       "      <td>radiotherapy</td>\n",
       "      <td>R</td>\n",
       "      <td>D</td>\n",
       "      <td>2.0</td>\n",
       "      <td>31397</td>\n",
       "      <td>7.0</td>\n",
       "      <td>Trauma</td>\n",
       "      <td>Extreme</td>\n",
       "      <td>2</td>\n",
       "      <td>51-60</td>\n",
       "      <td>7272.0</td>\n",
       "      <td>41-50</td>\n",
       "    </tr>\n",
       "    <tr>\n",
       "      <th>4</th>\n",
       "      <td>5</td>\n",
       "      <td>26</td>\n",
       "      <td>b</td>\n",
       "      <td>2</td>\n",
       "      <td>Y</td>\n",
       "      <td>2</td>\n",
       "      <td>radiotherapy</td>\n",
       "      <td>S</td>\n",
       "      <td>D</td>\n",
       "      <td>2.0</td>\n",
       "      <td>31397</td>\n",
       "      <td>7.0</td>\n",
       "      <td>Trauma</td>\n",
       "      <td>Extreme</td>\n",
       "      <td>2</td>\n",
       "      <td>51-60</td>\n",
       "      <td>5558.0</td>\n",
       "      <td>41-50</td>\n",
       "    </tr>\n",
       "  </tbody>\n",
       "</table>\n",
       "</div>"
      ],
      "text/plain": [
       "   case_id  Hospital_code Hospital_type_code  City_Code_Hospital  \\\n",
       "0        1              8                  c                   3   \n",
       "1        2              2                  c                   5   \n",
       "2        3             10                  e                   1   \n",
       "3        4             26                  b                   2   \n",
       "4        5             26                  b                   2   \n",
       "\n",
       "  Hospital_region_code  Available Extra Rooms in Hospital    Department  \\\n",
       "0                    Z                                  3  radiotherapy   \n",
       "1                    Z                                  2  radiotherapy   \n",
       "2                    X                                  2    anesthesia   \n",
       "3                    Y                                  2  radiotherapy   \n",
       "4                    Y                                  2  radiotherapy   \n",
       "\n",
       "  Ward_Type Ward_Facility_Code  Bed Grade  patientid  City_Code_Patient  \\\n",
       "0         R                  F        2.0      31397                7.0   \n",
       "1         S                  F        2.0      31397                7.0   \n",
       "2         S                  E        2.0      31397                7.0   \n",
       "3         R                  D        2.0      31397                7.0   \n",
       "4         S                  D        2.0      31397                7.0   \n",
       "\n",
       "  Type of Admission Severity of Illness  Visitors with Patient    Age  \\\n",
       "0         Emergency             Extreme                      2  51-60   \n",
       "1            Trauma             Extreme                      2  51-60   \n",
       "2            Trauma             Extreme                      2  51-60   \n",
       "3            Trauma             Extreme                      2  51-60   \n",
       "4            Trauma             Extreme                      2  51-60   \n",
       "\n",
       "   Admission_Deposit   Stay  \n",
       "0             4911.0   0-10  \n",
       "1             5954.0  41-50  \n",
       "2             4745.0  31-40  \n",
       "3             7272.0  41-50  \n",
       "4             5558.0  41-50  "
      ]
     },
     "execution_count": 201,
     "metadata": {},
     "output_type": "execute_result"
    }
   ],
   "source": [
    "df.head()"
   ]
  },
  {
   "cell_type": "code",
   "execution_count": 202,
   "id": "95f880dc",
   "metadata": {},
   "outputs": [],
   "source": [
    "df_test_cp = df_test.copy()"
   ]
  },
  {
   "cell_type": "code",
   "execution_count": 203,
   "id": "0cba6366",
   "metadata": {},
   "outputs": [],
   "source": [
    "df_test_fe = df_test.copy()"
   ]
  },
  {
   "cell_type": "code",
   "execution_count": 204,
   "id": "11848c24",
   "metadata": {},
   "outputs": [
    {
     "data": {
      "text/html": [
       "<div>\n",
       "<style scoped>\n",
       "    .dataframe tbody tr th:only-of-type {\n",
       "        vertical-align: middle;\n",
       "    }\n",
       "\n",
       "    .dataframe tbody tr th {\n",
       "        vertical-align: top;\n",
       "    }\n",
       "\n",
       "    .dataframe thead th {\n",
       "        text-align: right;\n",
       "    }\n",
       "</style>\n",
       "<table border=\"1\" class=\"dataframe\">\n",
       "  <thead>\n",
       "    <tr style=\"text-align: right;\">\n",
       "      <th></th>\n",
       "      <th>case_id</th>\n",
       "      <th>Hospital_code</th>\n",
       "      <th>Hospital_type_code</th>\n",
       "      <th>City_Code_Hospital</th>\n",
       "      <th>Hospital_region_code</th>\n",
       "      <th>Available Extra Rooms in Hospital</th>\n",
       "      <th>Department</th>\n",
       "      <th>Ward_Type</th>\n",
       "      <th>Ward_Facility_Code</th>\n",
       "      <th>Bed Grade</th>\n",
       "      <th>patientid</th>\n",
       "      <th>City_Code_Patient</th>\n",
       "      <th>Type of Admission</th>\n",
       "      <th>Severity of Illness</th>\n",
       "      <th>Visitors with Patient</th>\n",
       "      <th>Age</th>\n",
       "      <th>Admission_Deposit</th>\n",
       "    </tr>\n",
       "  </thead>\n",
       "  <tbody>\n",
       "    <tr>\n",
       "      <th>0</th>\n",
       "      <td>318439</td>\n",
       "      <td>21</td>\n",
       "      <td>c</td>\n",
       "      <td>3</td>\n",
       "      <td>Z</td>\n",
       "      <td>3</td>\n",
       "      <td>gynecology</td>\n",
       "      <td>S</td>\n",
       "      <td>A</td>\n",
       "      <td>2.0</td>\n",
       "      <td>17006</td>\n",
       "      <td>2.0</td>\n",
       "      <td>Emergency</td>\n",
       "      <td>Moderate</td>\n",
       "      <td>2</td>\n",
       "      <td>71-80</td>\n",
       "      <td>3095.0</td>\n",
       "    </tr>\n",
       "    <tr>\n",
       "      <th>1</th>\n",
       "      <td>318440</td>\n",
       "      <td>29</td>\n",
       "      <td>a</td>\n",
       "      <td>4</td>\n",
       "      <td>X</td>\n",
       "      <td>2</td>\n",
       "      <td>gynecology</td>\n",
       "      <td>S</td>\n",
       "      <td>F</td>\n",
       "      <td>2.0</td>\n",
       "      <td>17006</td>\n",
       "      <td>2.0</td>\n",
       "      <td>Trauma</td>\n",
       "      <td>Moderate</td>\n",
       "      <td>4</td>\n",
       "      <td>71-80</td>\n",
       "      <td>4018.0</td>\n",
       "    </tr>\n",
       "    <tr>\n",
       "      <th>2</th>\n",
       "      <td>318441</td>\n",
       "      <td>26</td>\n",
       "      <td>b</td>\n",
       "      <td>2</td>\n",
       "      <td>Y</td>\n",
       "      <td>3</td>\n",
       "      <td>gynecology</td>\n",
       "      <td>Q</td>\n",
       "      <td>D</td>\n",
       "      <td>4.0</td>\n",
       "      <td>17006</td>\n",
       "      <td>2.0</td>\n",
       "      <td>Emergency</td>\n",
       "      <td>Moderate</td>\n",
       "      <td>3</td>\n",
       "      <td>71-80</td>\n",
       "      <td>4492.0</td>\n",
       "    </tr>\n",
       "    <tr>\n",
       "      <th>3</th>\n",
       "      <td>318442</td>\n",
       "      <td>6</td>\n",
       "      <td>a</td>\n",
       "      <td>6</td>\n",
       "      <td>X</td>\n",
       "      <td>3</td>\n",
       "      <td>gynecology</td>\n",
       "      <td>Q</td>\n",
       "      <td>F</td>\n",
       "      <td>2.0</td>\n",
       "      <td>17006</td>\n",
       "      <td>2.0</td>\n",
       "      <td>Trauma</td>\n",
       "      <td>Moderate</td>\n",
       "      <td>3</td>\n",
       "      <td>71-80</td>\n",
       "      <td>4173.0</td>\n",
       "    </tr>\n",
       "    <tr>\n",
       "      <th>4</th>\n",
       "      <td>318443</td>\n",
       "      <td>28</td>\n",
       "      <td>b</td>\n",
       "      <td>11</td>\n",
       "      <td>X</td>\n",
       "      <td>2</td>\n",
       "      <td>gynecology</td>\n",
       "      <td>R</td>\n",
       "      <td>F</td>\n",
       "      <td>2.0</td>\n",
       "      <td>17006</td>\n",
       "      <td>2.0</td>\n",
       "      <td>Trauma</td>\n",
       "      <td>Moderate</td>\n",
       "      <td>4</td>\n",
       "      <td>71-80</td>\n",
       "      <td>4161.0</td>\n",
       "    </tr>\n",
       "  </tbody>\n",
       "</table>\n",
       "</div>"
      ],
      "text/plain": [
       "   case_id  Hospital_code Hospital_type_code  City_Code_Hospital  \\\n",
       "0   318439             21                  c                   3   \n",
       "1   318440             29                  a                   4   \n",
       "2   318441             26                  b                   2   \n",
       "3   318442              6                  a                   6   \n",
       "4   318443             28                  b                  11   \n",
       "\n",
       "  Hospital_region_code  Available Extra Rooms in Hospital  Department  \\\n",
       "0                    Z                                  3  gynecology   \n",
       "1                    X                                  2  gynecology   \n",
       "2                    Y                                  3  gynecology   \n",
       "3                    X                                  3  gynecology   \n",
       "4                    X                                  2  gynecology   \n",
       "\n",
       "  Ward_Type Ward_Facility_Code  Bed Grade  patientid  City_Code_Patient  \\\n",
       "0         S                  A        2.0      17006                2.0   \n",
       "1         S                  F        2.0      17006                2.0   \n",
       "2         Q                  D        4.0      17006                2.0   \n",
       "3         Q                  F        2.0      17006                2.0   \n",
       "4         R                  F        2.0      17006                2.0   \n",
       "\n",
       "  Type of Admission Severity of Illness  Visitors with Patient    Age  \\\n",
       "0         Emergency            Moderate                      2  71-80   \n",
       "1            Trauma            Moderate                      4  71-80   \n",
       "2         Emergency            Moderate                      3  71-80   \n",
       "3            Trauma            Moderate                      3  71-80   \n",
       "4            Trauma            Moderate                      4  71-80   \n",
       "\n",
       "   Admission_Deposit  \n",
       "0             3095.0  \n",
       "1             4018.0  \n",
       "2             4492.0  \n",
       "3             4173.0  \n",
       "4             4161.0  "
      ]
     },
     "execution_count": 204,
     "metadata": {},
     "output_type": "execute_result"
    }
   ],
   "source": [
    "df_test.head()"
   ]
  },
  {
   "cell_type": "code",
   "execution_count": 205,
   "id": "38acfb9d",
   "metadata": {},
   "outputs": [
    {
     "data": {
      "text/html": [
       "<div>\n",
       "<style scoped>\n",
       "    .dataframe tbody tr th:only-of-type {\n",
       "        vertical-align: middle;\n",
       "    }\n",
       "\n",
       "    .dataframe tbody tr th {\n",
       "        vertical-align: top;\n",
       "    }\n",
       "\n",
       "    .dataframe thead th {\n",
       "        text-align: right;\n",
       "    }\n",
       "</style>\n",
       "<table border=\"1\" class=\"dataframe\">\n",
       "  <thead>\n",
       "    <tr style=\"text-align: right;\">\n",
       "      <th></th>\n",
       "      <th>case_id</th>\n",
       "      <th>Stay</th>\n",
       "    </tr>\n",
       "  </thead>\n",
       "  <tbody>\n",
       "    <tr>\n",
       "      <th>0</th>\n",
       "      <td>318439</td>\n",
       "      <td>0-10</td>\n",
       "    </tr>\n",
       "    <tr>\n",
       "      <th>1</th>\n",
       "      <td>318440</td>\n",
       "      <td>0-10</td>\n",
       "    </tr>\n",
       "    <tr>\n",
       "      <th>2</th>\n",
       "      <td>318441</td>\n",
       "      <td>0-10</td>\n",
       "    </tr>\n",
       "    <tr>\n",
       "      <th>3</th>\n",
       "      <td>318442</td>\n",
       "      <td>0-10</td>\n",
       "    </tr>\n",
       "    <tr>\n",
       "      <th>4</th>\n",
       "      <td>318443</td>\n",
       "      <td>0-10</td>\n",
       "    </tr>\n",
       "  </tbody>\n",
       "</table>\n",
       "</div>"
      ],
      "text/plain": [
       "   case_id  Stay\n",
       "0   318439  0-10\n",
       "1   318440  0-10\n",
       "2   318441  0-10\n",
       "3   318442  0-10\n",
       "4   318443  0-10"
      ]
     },
     "execution_count": 205,
     "metadata": {},
     "output_type": "execute_result"
    }
   ],
   "source": [
    "df_test_y.head()"
   ]
  },
  {
   "cell_type": "code",
   "execution_count": 206,
   "id": "44b443f8",
   "metadata": {},
   "outputs": [
    {
     "data": {
      "text/plain": [
       "11"
      ]
     },
     "execution_count": 206,
     "metadata": {},
     "output_type": "execute_result"
    }
   ],
   "source": [
    "df[\"Stay\"].nunique()"
   ]
  },
  {
   "cell_type": "markdown",
   "id": "8e6c6b14",
   "metadata": {},
   "source": [
    "### Merge Dataset"
   ]
  },
  {
   "cell_type": "code",
   "execution_count": 207,
   "id": "a9641725",
   "metadata": {},
   "outputs": [],
   "source": [
    "df_test = df_test.merge(df_test_y, how='inner', left_on=['case_id'], right_on=['case_id'])"
   ]
  },
  {
   "cell_type": "code",
   "execution_count": 208,
   "id": "03037b33",
   "metadata": {},
   "outputs": [
    {
     "name": "stdout",
     "output_type": "stream",
     "text": [
      "<class 'pandas.core.frame.DataFrame'>\n",
      "Int64Index: 137057 entries, 0 to 137056\n",
      "Data columns (total 18 columns):\n",
      " #   Column                             Non-Null Count   Dtype  \n",
      "---  ------                             --------------   -----  \n",
      " 0   case_id                            137057 non-null  int64  \n",
      " 1   Hospital_code                      137057 non-null  int64  \n",
      " 2   Hospital_type_code                 137057 non-null  object \n",
      " 3   City_Code_Hospital                 137057 non-null  int64  \n",
      " 4   Hospital_region_code               137057 non-null  object \n",
      " 5   Available Extra Rooms in Hospital  137057 non-null  int64  \n",
      " 6   Department                         137057 non-null  object \n",
      " 7   Ward_Type                          137057 non-null  object \n",
      " 8   Ward_Facility_Code                 137057 non-null  object \n",
      " 9   Bed Grade                          137022 non-null  float64\n",
      " 10  patientid                          137057 non-null  int64  \n",
      " 11  City_Code_Patient                  134900 non-null  float64\n",
      " 12  Type of Admission                  137057 non-null  object \n",
      " 13  Severity of Illness                137057 non-null  object \n",
      " 14  Visitors with Patient              137057 non-null  int64  \n",
      " 15  Age                                137057 non-null  object \n",
      " 16  Admission_Deposit                  137057 non-null  float64\n",
      " 17  Stay                               137057 non-null  object \n",
      "dtypes: float64(3), int64(6), object(9)\n",
      "memory usage: 19.9+ MB\n"
     ]
    }
   ],
   "source": [
    "df_test.info()"
   ]
  },
  {
   "cell_type": "code",
   "execution_count": 209,
   "id": "890bdfdf",
   "metadata": {},
   "outputs": [],
   "source": [
    "# create new data frame\n",
    "mdf = df.append(df_test)"
   ]
  },
  {
   "cell_type": "code",
   "execution_count": 210,
   "id": "5dbec1db",
   "metadata": {},
   "outputs": [
    {
     "data": {
      "text/plain": [
       "True"
      ]
     },
     "execution_count": 210,
     "metadata": {},
     "output_type": "execute_result"
    }
   ],
   "source": [
    "mdf.case_id.is_unique"
   ]
  },
  {
   "cell_type": "markdown",
   "id": "7d9fdebf",
   "metadata": {},
   "source": [
    "## DATA PREPROCESSING FOR mdf"
   ]
  },
  {
   "cell_type": "code",
   "execution_count": 211,
   "id": "ebe601c0",
   "metadata": {},
   "outputs": [],
   "source": [
    "object_cols = mdf.select_dtypes(include='object').columns.to_list()\n",
    "num_cols = mdf.drop(object_cols, axis=1).columns\n",
    "object_cols.remove('Stay')"
   ]
  },
  {
   "cell_type": "code",
   "execution_count": 212,
   "id": "e5310be2",
   "metadata": {},
   "outputs": [
    {
     "name": "stdout",
     "output_type": "stream",
     "text": [
      "Hospital_type_code: ['a' 'b' 'c' 'd' 'e' 'f' 'g'] \n",
      "\n",
      "Hospital_region_code: ['X' 'Y' 'Z'] \n",
      "\n",
      "Department: ['TB & Chest disease' 'anesthesia' 'gynecology' 'radiotherapy' 'surgery'] \n",
      "\n",
      "Ward_Type: ['P' 'Q' 'R' 'S' 'T' 'U'] \n",
      "\n",
      "Ward_Facility_Code: ['A' 'B' 'C' 'D' 'E' 'F'] \n",
      "\n",
      "Type of Admission: ['Emergency' 'Trauma' 'Urgent'] \n",
      "\n",
      "Severity of Illness: ['Extreme' 'Minor' 'Moderate'] \n",
      "\n",
      "Age: ['0-10' '11-20' '21-30' '31-40' '41-50' '51-60' '61-70' '71-80' '81-90'\n",
      " '91-100'] \n",
      "\n"
     ]
    }
   ],
   "source": [
    "# convert object data to numerical using label encoding\n",
    "les = {}\n",
    "for col in object_cols:\n",
    "  les[col] = LabelEncoder()\n",
    "  data = mdf[col].values\n",
    "  mdf[col]  = les[col].fit_transform(data)\n",
    "  print(\"{}: {} \\n\".format(col, les[col].classes_))"
   ]
  },
  {
   "cell_type": "markdown",
   "id": "868e0070",
   "metadata": {},
   "source": [
    "### Correlation Matrix"
   ]
  },
  {
   "cell_type": "code",
   "execution_count": 213,
   "id": "e8709568",
   "metadata": {},
   "outputs": [
    {
     "data": {
      "text/plain": [
       "<AxesSubplot:>"
      ]
     },
     "execution_count": 213,
     "metadata": {},
     "output_type": "execute_result"
    },
    {
     "data": {
      "image/png": "[encoded data removed]",
      "text/plain": [
       "<Figure size 864x864 with 1 Axes>"
      ]
     },
     "metadata": {},
     "output_type": "display_data"
    }
   ],
   "source": [
    "fig, ax = plt.subplots(figsize=(12, 12))\n",
    "sns.heatmap(ax=ax, data=mdf.corr(), cmap=\"YlGnBu\", annot=True, cbar=False)"
   ]
  },
  {
   "cell_type": "code",
   "execution_count": 214,
   "id": "08184238",
   "metadata": {},
   "outputs": [
    {
     "data": {
      "text/plain": [
       "case_id                                 0\n",
       "Hospital_code                           0\n",
       "Hospital_type_code                      0\n",
       "City_Code_Hospital                      0\n",
       "Hospital_region_code                    0\n",
       "Available Extra Rooms in Hospital       0\n",
       "Department                              0\n",
       "Ward_Type                               0\n",
       "Ward_Facility_Code                      0\n",
       "Bed Grade                             148\n",
       "patientid                               0\n",
       "City_Code_Patient                    6689\n",
       "Type of Admission                       0\n",
       "Severity of Illness                     0\n",
       "Visitors with Patient                   0\n",
       "Age                                     0\n",
       "Admission_Deposit                       0\n",
       "Stay                                    0\n",
       "dtype: int64"
      ]
     },
     "execution_count": 214,
     "metadata": {},
     "output_type": "execute_result"
    }
   ],
   "source": [
    "mdf.isnull().sum()"
   ]
  },
  {
   "cell_type": "code",
   "execution_count": 215,
   "id": "b4ff9289",
   "metadata": {},
   "outputs": [],
   "source": [
    "bed_grade_mean = mdf[\"Bed Grade\"].mean()\n",
    "city_code_patient_mean = mdf[\"City_Code_Patient\"].mean()\n",
    "mdf.loc[mdf[\"Bed Grade\"].isnull(), \"Bed Grade\"] = bed_grade_mean\n",
    "mdf.loc[mdf[\"City_Code_Patient\"].isnull(), \"City_Code_Patient\"] = city_code_patient_mean"
   ]
  },
  {
   "cell_type": "code",
   "execution_count": 216,
   "id": "88f18947",
   "metadata": {},
   "outputs": [
    {
     "data": {
      "text/plain": [
       "case_id                              0\n",
       "Hospital_code                        0\n",
       "Hospital_type_code                   0\n",
       "City_Code_Hospital                   0\n",
       "Hospital_region_code                 0\n",
       "Available Extra Rooms in Hospital    0\n",
       "Department                           0\n",
       "Ward_Type                            0\n",
       "Ward_Facility_Code                   0\n",
       "Bed Grade                            0\n",
       "patientid                            0\n",
       "City_Code_Patient                    0\n",
       "Type of Admission                    0\n",
       "Severity of Illness                  0\n",
       "Visitors with Patient                0\n",
       "Age                                  0\n",
       "Admission_Deposit                    0\n",
       "Stay                                 0\n",
       "dtype: int64"
      ]
     },
     "execution_count": 216,
     "metadata": {},
     "output_type": "execute_result"
    }
   ],
   "source": [
    "mdf.isna().sum()"
   ]
  },
  {
   "cell_type": "markdown",
   "id": "4dde48ee",
   "metadata": {},
   "source": [
    "## MLOPS"
   ]
  },
  {
   "cell_type": "code",
   "execution_count": 257,
   "id": "505eb2f0",
   "metadata": {},
   "outputs": [],
   "source": [
    "from time import time\n",
    "from sklearn.model_selection import RandomizedSearchCV\n",
    "from scipy.stats import randint"
   ]
  },
  {
   "cell_type": "code",
   "execution_count": 258,
   "id": "b712f949",
   "metadata": {},
   "outputs": [],
   "source": [
    "df_test = df_test.merge(df_test_y, how='inner', left_on=['case_id'], right_on=['case_id'])"
   ]
  },
  {
   "cell_type": "code",
   "execution_count": 259,
   "id": "e2ffc0b8",
   "metadata": {},
   "outputs": [],
   "source": [
    "df_selection = df.append(df_test)"
   ]
  },
  {
   "cell_type": "code",
   "execution_count": 260,
   "id": "a320bf8b",
   "metadata": {},
   "outputs": [],
   "source": [
    "x = mdf.drop(['Stay', 'case_id', 'patientid'], axis=1)\n",
    "y = mdf.Stay"
   ]
  },
  {
   "cell_type": "code",
   "execution_count": 261,
   "id": "85f5b1e6",
   "metadata": {},
   "outputs": [],
   "source": [
    "x[x.columns] = RobustScaler().fit_transform(x[x.columns].values)"
   ]
  },
  {
   "cell_type": "code",
   "execution_count": 222,
   "id": "788ea382",
   "metadata": {},
   "outputs": [],
   "source": [
    "x_train,x_test,y_train,y_test = train_test_split(x,y,test_size=0.3, stratify=y)"
   ]
  },
  {
   "cell_type": "code",
   "execution_count": 223,
   "id": "4b0a5d9f",
   "metadata": {},
   "outputs": [
    {
     "name": "stdout",
     "output_type": "stream",
     "text": [
      "RandomForsetClassifier\n",
      "33.49\n",
      "KNeighborsClassifier\n",
      "31.79\n",
      "LogisticRegression\n",
      "34.41\n",
      "DecisionTreeClassifier\n",
      "26.91\n",
      "GaussianNB\n",
      "33.13\n"
     ]
    }
   ],
   "source": [
    "values= [RandomForestClassifier(), KNeighborsClassifier(), LogisticRegression(), DecisionTreeClassifier(), GaussianNB()]\n",
    "\n",
    "keys= ['RandomForsetClassifier',\n",
    "      'KNeighborsClassifier', \n",
    "       'LogisticRegression', \n",
    "       'DecisionTreeClassifier', \n",
    "       'GaussianNB']\n",
    "\n",
    "models= dict(zip(keys,values))\n",
    "accuracy_scores=[]\n",
    "train_times=[]\n",
    "\n",
    "for key,value in models.items():\n",
    "  t = time()\n",
    "  value.fit(x_train,y_train)\n",
    "  duration = (time() - t) / 60\n",
    "  y_pred= value.predict(x_test)\n",
    "  accuracy= accuracy_score(y_test, y_pred)\n",
    "  accuracy_scores.append(accuracy)\n",
    "  train_times.append(duration)   \n",
    "  print(key)\n",
    "  print(round(accuracy * 100, 2))\n"
   ]
  },
  {
   "cell_type": "code",
   "execution_count": 224,
   "id": "33f76291",
   "metadata": {},
   "outputs": [
    {
     "data": {
      "text/plain": [
       "RandomizedSearchCV(cv=5, estimator=DecisionTreeClassifier(),\n",
       "                   param_distributions={'criterion': ['gini', 'entropy'],\n",
       "                                        'max_depth': [3, None],\n",
       "                                        'max_features': <scipy.stats._distn_infrastructure.rv_frozen object at 0x7fa6b60ae940>,\n",
       "                                        'min_samples_leaf': <scipy.stats._distn_infrastructure.rv_frozen object at 0x7fa441aba640>})"
      ]
     },
     "execution_count": 224,
     "metadata": {},
     "output_type": "execute_result"
    }
   ],
   "source": [
    "param_dist = {\"max_depth\": [3, None],\n",
    "              \"max_features\": randint(1, 9),\n",
    "              \"min_samples_leaf\": randint(1, 9),\n",
    "              \"criterion\": [\"gini\", \"entropy\"]}\n",
    "tree = DecisionTreeClassifier()\n",
    "\n",
    "# Instantiate the RandomizedSearchCV object: tree_cv\n",
    "tree_cv = RandomizedSearchCV(tree, param_dist, cv=5)\n",
    "\n",
    "# Fit it to the data\n",
    "tree_cv.fit(x_train, y_train)"
   ]
  },
  {
   "cell_type": "code",
   "execution_count": 225,
   "id": "87a4c937",
   "metadata": {},
   "outputs": [
    {
     "data": {
      "text/plain": [
       "0.35271573113884896"
      ]
     },
     "execution_count": 225,
     "metadata": {},
     "output_type": "execute_result"
    }
   ],
   "source": [
    "tree_cv.best_score_"
   ]
  },
  {
   "cell_type": "code",
   "execution_count": 226,
   "id": "7466775d",
   "metadata": {},
   "outputs": [
    {
     "data": {
      "text/plain": [
       "DecisionTreeClassifier(max_depth=3, max_features=2, min_samples_leaf=5)"
      ]
     },
     "execution_count": 226,
     "metadata": {},
     "output_type": "execute_result"
    }
   ],
   "source": [
    "tree_cv.best_estimator_"
   ]
  },
  {
   "cell_type": "code",
   "execution_count": 227,
   "id": "68856af0",
   "metadata": {},
   "outputs": [
    {
     "name": "stdout",
     "output_type": "stream",
     "text": [
      "Precision: 0.3312574552320178\n",
      "Recall: 0.3312574552320178\n",
      "F1 Puanı: 0.3312574552320178\n",
      "\n",
      "Sınıflandırma Matrisi: \n",
      " [[30098  4035 11859     0     6  1362     1    49    85     0   704]\n",
      " [13759  2986  6512     0     1   173     0     2     1     0     8]\n",
      " [13258  2405 10356     0     8   143     0     6     6     0    65]\n",
      " [11503   839  3647     0     3   463     2     6     9     0    76]\n",
      " [ 2040   230  1155     0     2    51     0     1     4     0    40]\n",
      " [ 8332   163   656     0     0  1069     2    34    30     0   219]\n",
      " [  502    28   227     0     0    32     0     1     4     0    29]\n",
      " [ 2401    16    88     0     0   307     1    11    42     0   210]\n",
      " [  717     9    19     0     0   483     0    25    16     0   182]\n",
      " [  590     7    32     0     1    63     0     3     8     0   126]\n",
      " [  801    12    34     0     1   362     1    20    46     0   728]]\n"
     ]
    }
   ],
   "source": [
    "print(\"Precision: \"+str(precision_score(y_test,y_pred, average='micro')))\n",
    "print(\"Recall: \"+str(recall_score(y_test,y_pred, average='micro')))\n",
    "print(\"F1 Puanı: \"+str(precision_score(y_test,y_pred, average='micro')))\n",
    "print()\n",
    "print(\"Sınıflandırma Matrisi: \\n \"+str(confusion_matrix(y_test,y_pred)))\n"
   ]
  },
  {
   "cell_type": "code",
   "execution_count": 228,
   "id": "c4a770b5",
   "metadata": {},
   "outputs": [],
   "source": [
    "def f_importances(coef, names, top=-1):\n",
    "    imp = coef\n",
    "    imp, names = zip(*sorted(list(zip(imp, names))))\n",
    "\n",
    "    # Show all features\n",
    "    if top == -1:\n",
    "        top = len(names)\n",
    "\n",
    "    plt.barh(range(top), imp[::-1][0:top], align='center')\n",
    "    plt.yticks(range(top), names[::-1][0:top])\n",
    "    plt.title('feature importances for mdf')\n",
    "    plt.show()"
   ]
  },
  {
   "cell_type": "code",
   "execution_count": 229,
   "id": "d2bda61c",
   "metadata": {},
   "outputs": [
    {
     "data": {
      "image/png": "[encoded data removed]",
      "text/plain": [
       "<Figure size 432x288 with 1 Axes>"
      ]
     },
     "metadata": {},
     "output_type": "display_data"
    }
   ],
   "source": [
    "features_names = x_train.columns\n",
    "f_importances(abs(tree_cv.best_estimator_.feature_importances_), features_names, top=4)"
   ]
  },
  {
   "cell_type": "markdown",
   "id": "4668d67a",
   "metadata": {},
   "source": [
    "## VALIDATION"
   ]
  },
  {
   "cell_type": "code",
   "execution_count": 268,
   "id": "a479cbfc",
   "metadata": {},
   "outputs": [],
   "source": [
    "x_train,x_val,y_train,y_val=train_test_split(x,y,test_size=0.3,random_state=0,stratify=y)"
   ]
  },
  {
   "cell_type": "code",
   "execution_count": 269,
   "id": "e8a42b27",
   "metadata": {},
   "outputs": [
    {
     "name": "stdout",
     "output_type": "stream",
     "text": [
      "Train for Accuracy: 0.9995765981069231\n",
      "Validation for Accuracy: 0.26916406267151605\n",
      "\n",
      "Precision: 0.26916406267151605\n",
      "Recall: 0.26916406267151605\n",
      "F1 Puanı: 0.26916406267151605\n",
      "\n",
      "Validation Confusion Matrix: \n",
      " [[17358  8521  9309  5697  1318  3387   292  1081   434   257   545]\n",
      " [ 8272  5776  5058  2433   581   804   110   217    62    56    73]\n",
      " [ 9057  5188  6974  2827   887   774   179   168    61    51    81]\n",
      " [ 5325  2314  2738  2947   469  1744   103   496   145   114   153]\n",
      " [ 1251   585   762   441   170   167    29    55    26    15    22]\n",
      " [ 3248   788   750  1755   213  2310    76   659   291   153   262]\n",
      " [  262    99   164   104    36    80    20    25     8     8    17]\n",
      " [  962   205   160   462    54   603    25   318    64    62   161]\n",
      " [  447    57    64   117    26   269    18    63   248    13   129]\n",
      " [  244    49    42   100    16   161     6    72    19    65    56]\n",
      " [  505    61    77   130    23   250    24   152   137    51   595]]\n",
      "\n",
      "Train Confusion Matrix: \n",
      " [[112462      0      0      0      0      0      0      0      0      0\n",
      "       0]\n",
      " [    29  54668      0      0      0      0      0      0      0      0\n",
      "       0]\n",
      " [    28     21  61195      0      0      0      0      0      0      0\n",
      "       0]\n",
      " [    12     11     11  38577      0      0      0      0      0      0\n",
      "       0]\n",
      " [     2      2      1      1   8214      0      0      0      0      0\n",
      "       0]\n",
      " [     2      2      3      6      0  24500      0      0      0      0\n",
      "       0]\n",
      " [     1      0      1      0      0      0   1919      0      0      0\n",
      "       0]\n",
      " [     0      0      1      0      0      0      0   7177      0      0\n",
      "       0]\n",
      " [     0      0      0      1      0      0      0      0   3386      0\n",
      "       0]\n",
      " [     0      0      0      0      0      0      0      0      0   1935\n",
      "       0]\n",
      " [     0      0      0      0      0      0      0      0      0      0\n",
      "    4678]]\n"
     ]
    }
   ],
   "source": [
    "dtc=DecisionTreeClassifier()\n",
    "dtc.fit(x_train,y_train)\n",
    "y_pred_test=dtc.predict(x_val)\n",
    "y_pred_train=dtc.predict(x_train)\n",
    "print(\"Train for Accuracy: \"+str(accuracy_score(y_train,y_pred_train)))\n",
    "print(\"Validation for Accuracy: \"+str(accuracy_score(y_val,y_pred_test)))\n",
    "print()\n",
    "print(\"Precision: \"+str(precision_score(y_val,y_pred_test,average='micro')))\n",
    "print(\"Recall: \"+str(recall_score(y_val,y_pred_test,average='micro')))\n",
    "print(\"F1 Puanı: \"+str(precision_score(y_val,y_pred_test,average='micro')))\n",
    "print()\n",
    "print(\"Validation Confusion Matrix: \\n \"+str(confusion_matrix(y_val,y_pred_test)))\n",
    "print()\n",
    "print(\"Train Confusion Matrix: \\n \"+str(confusion_matrix(y_train,y_pred_train)))"
   ]
  },
  {
   "cell_type": "markdown",
   "id": "e2254f30",
   "metadata": {},
   "source": [
    "## FEATURE SELECTION"
   ]
  },
  {
   "cell_type": "code",
   "execution_count": 232,
   "id": "9ae9345d",
   "metadata": {},
   "outputs": [],
   "source": [
    "from scipy.stats import uniform\n",
    "from scipy.stats import uniform as sp_randFloat\n",
    "from scipy.stats import randint as sp_randInt\n",
    "from sklearn.pipeline import Pipeline\n",
    "from sklearn.model_selection import GridSearchCV"
   ]
  },
  {
   "cell_type": "code",
   "execution_count": 233,
   "id": "2650ffd8",
   "metadata": {},
   "outputs": [],
   "source": [
    "# TRAIN dataset converted to digitized\n",
    "## alternatively labelEncoder() can be used"
   ]
  },
  {
   "cell_type": "code",
   "execution_count": 234,
   "id": "8742a59c",
   "metadata": {},
   "outputs": [],
   "source": [
    "    bed_grade_mean = df[\"Bed Grade\"].mean()\n",
    "    city_code_patient_mean = df[\"City_Code_Patient\"].mean()\n",
    "    df.loc[df[\"Bed Grade\"].isnull(), \"Bed Grade\"] = bed_grade_mean\n",
    "    df.loc[df[\"City_Code_Patient\"].isnull(), \"City_Code_Patient\"] = city_code_patient_mean"
   ]
  },
  {
   "cell_type": "code",
   "execution_count": 235,
   "id": "e5170e58",
   "metadata": {},
   "outputs": [],
   "source": [
    "    df_train = df[\n",
    "        [\"case_id\",\"Hospital_code\",\"Department\", \"Age\", \"Severity of Illness\", \"Type of Admission\", \"Stay\"]].copy()\n",
    "    # print(\"TRAIN DATA\")\n",
    "    # 0 ->  gynecology / 1 -> anesthesia / 2-> radiotherapy / 3 -> TB & Chest disease / 4 -> surgery\n",
    "    # print(df[\"Department\"].value_counts())\n",
    "    df_train = df_train.replace(['gynecology'], '0')\n",
    "    df_train = df_train.replace(['anesthesia'], '1')\n",
    "    df_train = df_train.replace(['radiotherapy'], '2')\n",
    "    df_train = df_train.replace(['TB & Chest disease'], '3')\n",
    "    df_train = df_train.replace(['surgery'], '4')\n",
    "    # print(df_train[\"Department\"].value_counts())\n",
    "\n",
    "    # 0 -> Moderate / 1 -> Minor / 2 -> Extreme / 3 -> Severity of Illness\n",
    "    # print(df[\"Severity of Illness\"].value_counts())\n",
    "    df_train = df_train.replace(['Moderate'], '0')\n",
    "    df_train = df_train.replace(['Minor'], '1')\n",
    "    df_train = df_train.replace(['Extreme'], '2')\n",
    "    # print(df_train[\"Severity of Illness\"].value_counts())\n",
    "\n",
    "    # 0 -> Trauma / 1 -> Emergency / 2 -> Urgent\n",
    "    # print(df[\"Type of Admission\"].value_counts())\n",
    "    df_train = df_train.replace(['Trauma'], '0')\n",
    "    df_train = df_train.replace(['Emergency'], '1')\n",
    "    df_train = df_train.replace(['Urgent'], '2')\n",
    "    # print(df_train[\"Type of Admission\"].value_counts())\n",
    "\n",
    "    # 0 -> 41-50 / 1 -> 31-40 / 2 -> 51-60 / 3 -> 21-30 / 4 -> 71-80 / 5 -> 61-70\n",
    "    # / 6 -> 11-20 / 7 -> 81-90 / 8 -> 0-10 / 9 -> 91-100\n",
    "    # print(df[\"Age\"].value_counts())\n",
    "    df_train = df_train.replace(['41-50'], '0')\n",
    "    df_train = df_train.replace(['31-40'], '1')\n",
    "    df_train = df_train.replace(['51-60'], '2')\n",
    "    df_train = df_train.replace(['21-30'], '3')\n",
    "    df_train = df_train.replace(['71-80'], '4')\n",
    "    df_train = df_train.replace(['61-70'], '5')\n",
    "    df_train = df_train.replace(['11-20'], '6')\n",
    "    df_train = df_train.replace(['81-90'], '7')\n",
    "    df_train = df_train.replace(['0-10'], '8')\n",
    "    df_train = df_train.replace(['91-100'], '9')\n",
    "    # print(df_train[\"Age\"].value_counts())\n",
    "\n",
    "    # 0 -> 21-30 / 1 -> 11-20 / 2 -> 31-40 / 3 -> 51-60 / 4 -> 0-10 / 5 -> 41-50\n",
    "    # 6 -> 71-80 / 7 -> More than 100 Days /  8 -> 81-90 / 9 -> 91-100 / 10 -> 61-70\n",
    "    # print(df[\"Stay\"].value_counts())\n",
    "    df_train = df_train.replace(['21-30'], '0')\n",
    "    df_train = df_train.replace(['11-20'], '1')\n",
    "    df_train = df_train.replace(['31-40'], '2')\n",
    "    df_train = df_train.replace(['51-60'], '3')\n",
    "    df_train = df_train.replace(['0-10'], '4')\n",
    "    df_train = df_train.replace(['41-50'], '5')\n",
    "    df_train = df_train.replace(['71-80'], '6')\n",
    "    df_train = df_train.replace(['More than 100 Days'], '7')\n",
    "    df_train = df_train.replace(['81-90'], '8')\n",
    "    df_train = df_train.replace(['91-100'], '9')\n",
    "    df_train = df_train.replace(['61-70'], '10')\n",
    "    # print(df_train[\"Stay\"].value_counts())"
   ]
  },
  {
   "cell_type": "code",
   "execution_count": 236,
   "id": "4b4ecd08",
   "metadata": {},
   "outputs": [],
   "source": [
    "# TEST dataset converted to digitized\n",
    "## alternatively labelEncoder() can be used"
   ]
  },
  {
   "cell_type": "code",
   "execution_count": 237,
   "id": "09f24e3d",
   "metadata": {},
   "outputs": [],
   "source": [
    "    bed_grade_mean = df_test_cp[\"Bed Grade\"].mean()\n",
    "    city_code_patient_mean = df_test_cp[\"City_Code_Patient\"].mean()\n",
    "    df_test_cp.loc[df_test_cp[\"Bed Grade\"].isnull(), \"Bed Grade\"] = bed_grade_mean\n",
    "    df_test_cp.loc[df_test_cp[\"City_Code_Patient\"].isnull(), \"City_Code_Patient\"] = city_code_patient_mean"
   ]
  },
  {
   "cell_type": "code",
   "execution_count": 238,
   "id": "f10b23a5",
   "metadata": {},
   "outputs": [],
   "source": [
    "    df_test_cp = df_test_cp[\n",
    "        [\"case_id\",\"Hospital_code\",\"Department\", \"Age\", \"Severity of Illness\", \"Type of Admission\"]].copy()\n",
    "\n",
    "    # 0 ->  gynecology / 1 -> anesthesia / 2-> radiotherapy / 3 -> TB & Chest disease / 4 -> surgery\n",
    "    # print(df_test_cp[\"Department\"].value_counts())\n",
    "    df_test_cp = df_test_cp.replace(['gynecology'], '0')\n",
    "    df_test_cp = df_test_cp.replace(['anesthesia'], '1')\n",
    "    df_test_cp = df_test_cp.replace(['radiotherapy'], '2')\n",
    "    df_test_cp = df_test_cp.replace(['TB & Chest disease'], '3')\n",
    "    df_test_cp = df_test_cp.replace(['surgery'], '4')\n",
    "    # print(df_test_cp[\"Department\"].value_counts())\n",
    "\n",
    "    # 0 -> Moderate / 1 -> Minor / 2 -> Extreme / 3 -> Severity of Illness\n",
    "    # print(df_test_cp[\"Severity of Illness\"].value_counts())\n",
    "    df_test_cp = df_test_cp.replace(['Moderate'], '0')\n",
    "    df_test_cp = df_test_cp.replace(['Minor'], '1')\n",
    "    df_test_cp = df_test_cp.replace(['Extreme'], '2')\n",
    "    # print(df_test_cp[\"Severity of Illness\"].value_counts())\n",
    "\n",
    "    # 0 -> Trauma / 1 -> Emergency / 2 -> Urgent\n",
    "    # print(df_test_cp[\"Type of Admission\"].value_counts())\n",
    "    df_test_cp = df_test_cp.replace(['Trauma'], '0')\n",
    "    df_test_cp = df_test_cp.replace(['Emergency'], '1')\n",
    "    df_test_cp = df_test_cp.replace(['Urgent'], '2')\n",
    "    # print(df_test_cp[\"Type of Admission\"].value_counts())\n",
    "\n",
    "    # 0 -> 41-50 / 1 -> 31-40 / 2 -> 51-60 / 3 -> 21-30 / 4 -> 71-80 / 5 -> 61-70\n",
    "    # / 6 -> 11-20 / 7 -> 81-90 / 8 -> 0-10 / 9 -> 91-100\n",
    "    # print(df_test_cp[\"Age\"].value_counts())\n",
    "    df_test_cp = df_test_cp.replace(['41-50'], '0')\n",
    "    df_test_cp = df_test_cp.replace(['31-40'], '1')\n",
    "    df_test_cp = df_test_cp.replace(['51-60'], '2')\n",
    "    df_test_cp = df_test_cp.replace(['21-30'], '3')\n",
    "    df_test_cp = df_test_cp.replace(['71-80'], '4')\n",
    "    df_test_cp = df_test_cp.replace(['61-70'], '5')\n",
    "    df_test_cp = df_test_cp.replace(['11-20'], '6')\n",
    "    df_test_cp = df_test_cp.replace(['81-90'], '7')\n",
    "    df_test_cp = df_test_cp.replace(['0-10'], '8')\n",
    "    df_test_cp = df_test_cp.replace(['91-100'], '9')\n",
    "    # print(df_test_cp[\"Age\"].value_counts())"
   ]
  },
  {
   "cell_type": "code",
   "execution_count": 239,
   "id": "a8bdd3aa",
   "metadata": {},
   "outputs": [],
   "source": [
    "df_test_cp = df_test_cp.merge(df_test_y, how='inner', left_on=['case_id'], right_on=['case_id'])"
   ]
  },
  {
   "cell_type": "code",
   "execution_count": 240,
   "id": "62a0fe70",
   "metadata": {},
   "outputs": [],
   "source": [
    "df_sn = df_train.append(df_test_cp)"
   ]
  },
  {
   "cell_type": "code",
   "execution_count": 241,
   "id": "d2aeac86",
   "metadata": {},
   "outputs": [],
   "source": [
    "x = df_sn.drop(['Stay', 'case_id'], axis=1)\n",
    "y = df_sn.Stay"
   ]
  },
  {
   "cell_type": "code",
   "execution_count": 242,
   "id": "0f859543",
   "metadata": {},
   "outputs": [],
   "source": [
    "x[x.columns] = RobustScaler().fit_transform(x[x.columns].values)"
   ]
  },
  {
   "cell_type": "code",
   "execution_count": 243,
   "id": "80139ae0",
   "metadata": {},
   "outputs": [],
   "source": [
    "x_train,x_test,y_train,y_test = train_test_split(x,y,test_size=0.3, stratify=y)"
   ]
  },
  {
   "cell_type": "code",
   "execution_count": 244,
   "id": "29ffcc8e",
   "metadata": {},
   "outputs": [
    {
     "name": "stdout",
     "output_type": "stream",
     "text": [
      "RandomForsetClassifier\n",
      "28.62\n",
      "KNeighborsClassifier\n",
      "23.32\n",
      "LogisticRegression\n",
      "30.09\n",
      "DecisionTreeClassifier\n",
      "28.87\n",
      "GaussianNB\n",
      "30.09\n"
     ]
    }
   ],
   "source": [
    "values= [RandomForestClassifier(), KNeighborsClassifier(), LogisticRegression(), DecisionTreeClassifier(), GaussianNB()]\n",
    "\n",
    "keys= ['RandomForsetClassifier',\n",
    "      'KNeighborsClassifier', \n",
    "       'LogisticRegression', \n",
    "       'DecisionTreeClassifier', \n",
    "       'GaussianNB']\n",
    "\n",
    "models= dict(zip(keys,values))\n",
    "accuracy_scores=[]\n",
    "train_times=[]\n",
    "\n",
    "for key,value in models.items():\n",
    "  t = time()\n",
    "  value.fit(x_train,y_train)\n",
    "  duration = (time() - t) / 60\n",
    "  y_pred= value.predict(x_test)\n",
    "  accuracy= accuracy_score(y_test, y_pred)\n",
    "  accuracy_scores.append(accuracy)\n",
    "  train_times.append(duration)   \n",
    "  print(key)\n",
    "  print(round(accuracy * 100, 2))"
   ]
  },
  {
   "cell_type": "markdown",
   "id": "1f55c504",
   "metadata": {},
   "source": [
    "## FEATURE EXTRACTION"
   ]
  },
  {
   "cell_type": "code",
   "execution_count": 245,
   "id": "315d0921",
   "metadata": {},
   "outputs": [],
   "source": [
    "#  -----------------------------FEATURE EXTRACTION WITH TRAIN --------------------------------------\n",
    "## Severity of Illness -> Extreme and Age -> 61... if greater then create column named priority and 1 will be set \n",
    "## otherwise priority status will be 0"
   ]
  },
  {
   "cell_type": "code",
   "execution_count": 246,
   "id": "813ac853",
   "metadata": {},
   "outputs": [
    {
     "name": "stdout",
     "output_type": "stream",
     "text": [
      "rslt_df size:(56723, 7)\n"
     ]
    },
    {
     "data": {
      "text/html": [
       "<div>\n",
       "<style scoped>\n",
       "    .dataframe tbody tr th:only-of-type {\n",
       "        vertical-align: middle;\n",
       "    }\n",
       "\n",
       "    .dataframe tbody tr th {\n",
       "        vertical-align: top;\n",
       "    }\n",
       "\n",
       "    .dataframe thead th {\n",
       "        text-align: right;\n",
       "    }\n",
       "</style>\n",
       "<table border=\"1\" class=\"dataframe\">\n",
       "  <thead>\n",
       "    <tr style=\"text-align: right;\">\n",
       "      <th></th>\n",
       "      <th>case_id</th>\n",
       "      <th>Hospital_code</th>\n",
       "      <th>Department</th>\n",
       "      <th>Age</th>\n",
       "      <th>Severity of Illness</th>\n",
       "      <th>Type of Admission</th>\n",
       "      <th>priority</th>\n",
       "      <th>Stay</th>\n",
       "    </tr>\n",
       "  </thead>\n",
       "  <tbody>\n",
       "    <tr>\n",
       "      <th>0</th>\n",
       "      <td>1.0</td>\n",
       "      <td>8.0</td>\n",
       "      <td>2</td>\n",
       "      <td>2</td>\n",
       "      <td>2</td>\n",
       "      <td>1</td>\n",
       "      <td>1</td>\n",
       "      <td>8</td>\n",
       "    </tr>\n",
       "    <tr>\n",
       "      <th>1</th>\n",
       "      <td>2.0</td>\n",
       "      <td>2.0</td>\n",
       "      <td>2</td>\n",
       "      <td>2</td>\n",
       "      <td>2</td>\n",
       "      <td>0</td>\n",
       "      <td>1</td>\n",
       "      <td>0</td>\n",
       "    </tr>\n",
       "    <tr>\n",
       "      <th>2</th>\n",
       "      <td>3.0</td>\n",
       "      <td>10.0</td>\n",
       "      <td>1</td>\n",
       "      <td>2</td>\n",
       "      <td>2</td>\n",
       "      <td>0</td>\n",
       "      <td>1</td>\n",
       "      <td>1</td>\n",
       "    </tr>\n",
       "    <tr>\n",
       "      <th>3</th>\n",
       "      <td>4.0</td>\n",
       "      <td>26.0</td>\n",
       "      <td>2</td>\n",
       "      <td>2</td>\n",
       "      <td>2</td>\n",
       "      <td>0</td>\n",
       "      <td>1</td>\n",
       "      <td>0</td>\n",
       "    </tr>\n",
       "    <tr>\n",
       "      <th>4</th>\n",
       "      <td>5.0</td>\n",
       "      <td>26.0</td>\n",
       "      <td>2</td>\n",
       "      <td>2</td>\n",
       "      <td>2</td>\n",
       "      <td>0</td>\n",
       "      <td>1</td>\n",
       "      <td>0</td>\n",
       "    </tr>\n",
       "  </tbody>\n",
       "</table>\n",
       "</div>"
      ],
      "text/plain": [
       "   case_id  Hospital_code  Department  Age  Severity of Illness  \\\n",
       "0      1.0            8.0           2    2                    2   \n",
       "1      2.0            2.0           2    2                    2   \n",
       "2      3.0           10.0           1    2                    2   \n",
       "3      4.0           26.0           2    2                    2   \n",
       "4      5.0           26.0           2    2                    2   \n",
       "\n",
       "   Type of Admission  priority  Stay  \n",
       "0                  1         1     8  \n",
       "1                  0         1     0  \n",
       "2                  0         1     1  \n",
       "3                  0         1     0  \n",
       "4                  0         1     0  "
      ]
     },
     "execution_count": 246,
     "metadata": {},
     "output_type": "execute_result"
    }
   ],
   "source": [
    "    df_copy_train = df_train\n",
    "    options_sol = ['2']\n",
    "    rslt_df = df_copy_train.loc[df_copy_train['Severity of Illness'].isin(options_sol)]\n",
    "    options_age = ['4', '5', '7', '9']\n",
    "    rslt_df_age = df_copy_train.loc[df_copy_train['Age'].isin(options_age)]\n",
    "    df_feature_ext = df_copy_train.copy()\n",
    "    \n",
    "    print(\"rslt_df size:\" + str(rslt_df.shape))\n",
    "    common = rslt_df.merge(rslt_df_age, left_index=True, right_index=True, how='outer', suffixes=('', '_drop'))\n",
    "    common.drop(common.filter(regex='_y$').columns.tolist(), axis=1, inplace=False)\n",
    "    # print(\"merged two column : \", common[\"Stay\"])\n",
    "    # print(common.isnull().sum())\n",
    "    common.loc[common[\"case_id\"].isnull(), \"case_id\"] = \"0\"\n",
    "    common.loc[common[\"Hospital_code\"].isnull(), \"Hospital_code\"] = \"0\"\n",
    "    common.loc[common[\"Department\"].isnull(), \"Department\"] = \"0\"\n",
    "    common.loc[common[\"Age\"].isnull(), \"Age\"] = \"0\"\n",
    "    common.loc[common[\"Severity of Illness\"].isnull(), \"Severity of Illness\"] = \"0\"\n",
    "    common.loc[common[\"Type of Admission\"].isnull(), \"Type of Admission\"] = \"0\"\n",
    "    common.loc[common[\"Stay\"].isnull(), \"Stay\"] = \"0\"\n",
    "    # print(common.isnull().sum())\n",
    "\n",
    "    f = open(\"train_join.csv\", \"w\")\n",
    "    f.write(\"case_id,Hospital_code,Department,Age,Severity of Illness,Type of Admission,priority,Stay\\n\")\n",
    "    for (i, row) in common.iterrows():\n",
    "        if common[\"Hospital_code\"][i] == \"0\" and common[\"Department\"][i] == \"0\" and \\\n",
    "                common[\"Age\"][i] == \"0\" and common[\"Severity of Illness\"][i] == \"0\" and common[\"Type of Admission\"][\n",
    "            i] == \"0\" and common[\"Stay\"][i] == \"0\":\n",
    "            row[\"case_id\"] = df_copy_train[\"case_id\"][i]\n",
    "            row[\"Hospital_code\"] = df_copy_train[\"Hospital_code\"][i]\n",
    "            row[\"Department\"] = df_copy_train[\"Department\"][i]\n",
    "            row[\"Age\"] = df_copy_train[\"Age\"][i]\n",
    "            row[\"Severity of Illness\"] = df_copy_train[\"Severity of Illness\"][i]\n",
    "            row[\"Type of Admission\"] = df_copy_train[\"Type of Admission\"][i]\n",
    "            row[\"Stay\"] = df_copy_train[\"Stay\"][i]\n",
    "\n",
    "            # row[\"priority\"] = \"NO\"\n",
    "            row[\"priority\"] = \"0\"\n",
    "\n",
    "        else:\n",
    "            # row[\"priority\"] = \"YES\"\n",
    "            row[\"priority\"] = \"1\"\n",
    "\n",
    "        f.write(str(row[\"case_id\"]) + \",\" + str(row[\"Hospital_code\"]) + \",\" + str(row[\"Department\"]) + \",\" + str(\n",
    "            row[\"Age\"]) + \",\" + str(row[\"Severity of Illness\"]) + \",\" + str(row[\"Type of Admission\"]) + \",\" \n",
    "                + str(row[\"priority\"]) + \",\" + str(row[\"Stay\"]) + \"\\n\")\n",
    "    file = open(\"train_join.csv\", \"r\")\n",
    "    df_common = pd.read_csv(file)\n",
    "    df_common.head()"
   ]
  },
  {
   "cell_type": "code",
   "execution_count": 247,
   "id": "f6160922",
   "metadata": {},
   "outputs": [],
   "source": [
    "#  -----------------------------FEATURE EXTRACTION WITH TEST --------------------------------------\n",
    "## Severity of Illness -> Extreme and Age -> 61... if greater then create column named priority and 1 will be set \n",
    "## otherwise priority status will be 0"
   ]
  },
  {
   "cell_type": "code",
   "execution_count": 248,
   "id": "47e24073",
   "metadata": {},
   "outputs": [
    {
     "data": {
      "text/html": [
       "<div>\n",
       "<style scoped>\n",
       "    .dataframe tbody tr th:only-of-type {\n",
       "        vertical-align: middle;\n",
       "    }\n",
       "\n",
       "    .dataframe tbody tr th {\n",
       "        vertical-align: top;\n",
       "    }\n",
       "\n",
       "    .dataframe thead th {\n",
       "        text-align: right;\n",
       "    }\n",
       "</style>\n",
       "<table border=\"1\" class=\"dataframe\">\n",
       "  <thead>\n",
       "    <tr style=\"text-align: right;\">\n",
       "      <th></th>\n",
       "      <th>case_id</th>\n",
       "      <th>Hospital_code</th>\n",
       "      <th>Department</th>\n",
       "      <th>Age</th>\n",
       "      <th>Severity of Illness</th>\n",
       "      <th>Type of Admission</th>\n",
       "      <th>priority</th>\n",
       "    </tr>\n",
       "  </thead>\n",
       "  <tbody>\n",
       "    <tr>\n",
       "      <th>0</th>\n",
       "      <td>318439.0</td>\n",
       "      <td>21.0</td>\n",
       "      <td>0</td>\n",
       "      <td>4</td>\n",
       "      <td>0</td>\n",
       "      <td>1</td>\n",
       "      <td>0</td>\n",
       "    </tr>\n",
       "    <tr>\n",
       "      <th>1</th>\n",
       "      <td>318440.0</td>\n",
       "      <td>29.0</td>\n",
       "      <td>0</td>\n",
       "      <td>4</td>\n",
       "      <td>0</td>\n",
       "      <td>0</td>\n",
       "      <td>0</td>\n",
       "    </tr>\n",
       "    <tr>\n",
       "      <th>2</th>\n",
       "      <td>318441.0</td>\n",
       "      <td>26.0</td>\n",
       "      <td>0</td>\n",
       "      <td>4</td>\n",
       "      <td>0</td>\n",
       "      <td>1</td>\n",
       "      <td>0</td>\n",
       "    </tr>\n",
       "    <tr>\n",
       "      <th>3</th>\n",
       "      <td>318442.0</td>\n",
       "      <td>6.0</td>\n",
       "      <td>0</td>\n",
       "      <td>4</td>\n",
       "      <td>0</td>\n",
       "      <td>0</td>\n",
       "      <td>0</td>\n",
       "    </tr>\n",
       "    <tr>\n",
       "      <th>4</th>\n",
       "      <td>318443.0</td>\n",
       "      <td>28.0</td>\n",
       "      <td>0</td>\n",
       "      <td>4</td>\n",
       "      <td>0</td>\n",
       "      <td>0</td>\n",
       "      <td>0</td>\n",
       "    </tr>\n",
       "    <tr>\n",
       "      <th>5</th>\n",
       "      <td>318444.0</td>\n",
       "      <td>23.0</td>\n",
       "      <td>0</td>\n",
       "      <td>4</td>\n",
       "      <td>0</td>\n",
       "      <td>0</td>\n",
       "      <td>0</td>\n",
       "    </tr>\n",
       "    <tr>\n",
       "      <th>6</th>\n",
       "      <td>318445.0</td>\n",
       "      <td>26.0</td>\n",
       "      <td>0</td>\n",
       "      <td>4</td>\n",
       "      <td>0</td>\n",
       "      <td>0</td>\n",
       "      <td>0</td>\n",
       "    </tr>\n",
       "    <tr>\n",
       "      <th>7</th>\n",
       "      <td>318470.0</td>\n",
       "      <td>31.0</td>\n",
       "      <td>0</td>\n",
       "      <td>0</td>\n",
       "      <td>2</td>\n",
       "      <td>1</td>\n",
       "      <td>1</td>\n",
       "    </tr>\n",
       "    <tr>\n",
       "      <th>8</th>\n",
       "      <td>318471.0</td>\n",
       "      <td>6.0</td>\n",
       "      <td>0</td>\n",
       "      <td>0</td>\n",
       "      <td>2</td>\n",
       "      <td>0</td>\n",
       "      <td>1</td>\n",
       "    </tr>\n",
       "    <tr>\n",
       "      <th>9</th>\n",
       "      <td>318472.0</td>\n",
       "      <td>1.0</td>\n",
       "      <td>0</td>\n",
       "      <td>0</td>\n",
       "      <td>2</td>\n",
       "      <td>0</td>\n",
       "      <td>1</td>\n",
       "    </tr>\n",
       "  </tbody>\n",
       "</table>\n",
       "</div>"
      ],
      "text/plain": [
       "    case_id  Hospital_code  Department  Age  Severity of Illness  \\\n",
       "0  318439.0           21.0           0    4                    0   \n",
       "1  318440.0           29.0           0    4                    0   \n",
       "2  318441.0           26.0           0    4                    0   \n",
       "3  318442.0            6.0           0    4                    0   \n",
       "4  318443.0           28.0           0    4                    0   \n",
       "5  318444.0           23.0           0    4                    0   \n",
       "6  318445.0           26.0           0    4                    0   \n",
       "7  318470.0           31.0           0    0                    2   \n",
       "8  318471.0            6.0           0    0                    2   \n",
       "9  318472.0            1.0           0    0                    2   \n",
       "\n",
       "   Type of Admission  priority  \n",
       "0                  1         0  \n",
       "1                  0         0  \n",
       "2                  1         0  \n",
       "3                  0         0  \n",
       "4                  0         0  \n",
       "5                  0         0  \n",
       "6                  0         0  \n",
       "7                  1         1  \n",
       "8                  0         1  \n",
       "9                  0         1  "
      ]
     },
     "execution_count": 248,
     "metadata": {},
     "output_type": "execute_result"
    }
   ],
   "source": [
    "    df_test_fe = df_test_cp.copy()\n",
    "    options_sol = ['2']\n",
    "    rslt_df_test = df_test_fe.loc[df_test_fe['Severity of Illness'].isin(options_sol)]\n",
    "    # print('\\nResult Severity of Illness :\\n', rslt_df_test)\n",
    "\n",
    "    options_age = ['4', '5', '7', '9']\n",
    "    rslt_df_test_age = df_test_fe.loc[df_test_fe['Age'].isin(options_age)]\n",
    "    # print('\\nResult Age :\\n', rslt_df_test_age)\n",
    "\n",
    "    common = rslt_df_test.merge(rslt_df_test_age, left_index=True, right_index=True, how='outer',\n",
    "                                suffixes=('', '_drop'))\n",
    "    common.drop(common.filter(regex='_y$').columns.tolist(), axis=1, inplace=False)\n",
    "\n",
    "    common.loc[common[\"case_id\"].isnull(), \"case_id\"] = \"0\"\n",
    "    common.loc[common[\"Hospital_code\"].isnull(), \"Hospital_code\"] = \"0\"\n",
    "    common.loc[common[\"Department\"].isnull(), \"Department\"] = \"0\"\n",
    "    common.loc[common[\"Age\"].isnull(), \"Age\"] = \"0\"\n",
    "    common.loc[common[\"Severity of Illness\"].isnull(), \"Severity of Illness\"] = \"0\"\n",
    "    common.loc[common[\"Type of Admission\"].isnull(), \"Type of Admission\"] = \"0\"\n",
    "\n",
    "    # print(common.isnull().sum())\n",
    "\n",
    "    f = open(\"test_join.csv\", \"w\")\n",
    "    f.write(\"case_id,Hospital_code,Department,Age,Severity of Illness,Type of Admission,priority\\n\")\n",
    "    for (i, row) in common.iterrows():\n",
    "        if common[\"Hospital_code\"][i] == \"0\"  and common[\"Department\"][i] == \"0\" and \\\n",
    "                common[\"Age\"][i] == \"0\" and common[\"Severity of Illness\"][i] == \"0\" and common[\"Type of Admission\"][\n",
    "            i] == \"0\":\n",
    "            row[\"case_id\"] = df_test_fe[\"case_id\"][i]\n",
    "            row[\"Hospital_code\"] = df_test_fe[\"Hospital_code\"][i]\n",
    "            row[\"Department\"] = df_test_fe[\"Department\"][i]\n",
    "            row[\"Age\"] = df_test_fe[\"Age\"][i]\n",
    "            row[\"Severity of Illness\"] = df_test_fe[\"Severity of Illness\"][i]\n",
    "            row[\"Type of Admission\"] = df_test_fe[\"Type of Admission\"][i]\n",
    "\n",
    "            # row[\"priority\"] = \"NO\"\n",
    "            row[\"priority\"] = \"0\"\n",
    "\n",
    "        else:\n",
    "            # row[\"priority\"] = \"YES\"\n",
    "            row[\"priority\"] = \"1\"\n",
    "\n",
    "        f.write(str(row[\"case_id\"]) + \",\" + str(row[\"Hospital_code\"]) + \",\" + str(row[\"Department\"]) + \",\" + str(\n",
    "            row[\"Age\"]) + \",\" + str(row[\"Severity of Illness\"]) + \",\" + str(row[\"Type of Admission\"]) + \",\" \n",
    "                + str(row[\"priority\"])  + \"\\n\")\n",
    "    file_test = open(\"test_join.csv\", \"r\")\n",
    "    df_test_common = pd.read_csv(file_test)\n",
    "    df_test_common.head(10)\n"
   ]
  },
  {
   "cell_type": "markdown",
   "id": "17dcd1f6",
   "metadata": {},
   "source": [
    "## MLOPS with F.Extraction"
   ]
  },
  {
   "cell_type": "code",
   "execution_count": 249,
   "id": "e137649b",
   "metadata": {},
   "outputs": [],
   "source": [
    "df_test_fe = df_test_fe.merge(df_test_y, how='inner', left_on=['case_id'], right_on=['case_id'])\n",
    "df_feat = df_train.append(df_test_cp)\n",
    "x = df_feat.drop(['Stay', 'case_id'], axis=1)\n",
    "y = df_feat.Stay\n",
    "x[x.columns] = RobustScaler().fit_transform(x[x.columns].values)"
   ]
  },
  {
   "cell_type": "code",
   "execution_count": 250,
   "id": "992abf84",
   "metadata": {},
   "outputs": [],
   "source": [
    "x_train,x_test,y_train,y_test = train_test_split(x,y,test_size=0.3, stratify=y)"
   ]
  },
  {
   "cell_type": "code",
   "execution_count": 251,
   "id": "21d0226e",
   "metadata": {},
   "outputs": [
    {
     "name": "stdout",
     "output_type": "stream",
     "text": [
      "RandomForsetClassifier\n",
      "28.78\n",
      "KNeighborsClassifier\n",
      "23.59\n",
      "LogisticRegression\n",
      "30.09\n",
      "DecisionTreeClassifier\n",
      "29.04\n",
      "GaussianNB\n",
      "30.09\n"
     ]
    }
   ],
   "source": [
    "values= [RandomForestClassifier(), KNeighborsClassifier(), LogisticRegression(), DecisionTreeClassifier(), GaussianNB()]\n",
    "\n",
    "keys= ['RandomForsetClassifier',\n",
    "      'KNeighborsClassifier', \n",
    "       'LogisticRegression', \n",
    "       'DecisionTreeClassifier', \n",
    "       'GaussianNB']\n",
    "\n",
    "models= dict(zip(keys,values))\n",
    "accuracy_scores=[]\n",
    "train_times=[]\n",
    "\n",
    "for key,value in models.items():\n",
    "  t = time()\n",
    "  value.fit(x_train,y_train)\n",
    "  duration = (time() - t) / 60\n",
    "  y_pred= value.predict(x_test)\n",
    "  accuracy= accuracy_score(y_test, y_pred)\n",
    "  accuracy_scores.append(accuracy)\n",
    "  train_times.append(duration)   \n",
    "  print(key)\n",
    "  print(round(accuracy * 100, 2))"
   ]
  },
  {
   "cell_type": "code",
   "execution_count": null,
   "id": "fbe88917",
   "metadata": {},
   "outputs": [],
   "source": []
  }
 ],
 "metadata": {
  "kernelspec": {
   "display_name": "Python 3 (ipykernel)",
   "language": "python",
   "name": "python3"
  },
  "language_info": {
   "codemirror_mode": {
    "name": "ipython",
    "version": 3
   },
   "file_extension": ".py",
   "mimetype": "text/x-python",
   "name": "python",
   "nbconvert_exporter": "python",
   "pygments_lexer": "ipython3",
   "version": "3.9.7"
  }
 },
 "nbformat": 4,
 "nbformat_minor": 5
}
